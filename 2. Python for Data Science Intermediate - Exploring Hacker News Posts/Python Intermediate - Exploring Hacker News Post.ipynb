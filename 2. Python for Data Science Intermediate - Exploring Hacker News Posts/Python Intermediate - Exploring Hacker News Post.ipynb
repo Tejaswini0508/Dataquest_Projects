{
 "cells": [
  {
   "cell_type": "markdown",
   "metadata": {
    "collapsed": true
   },
   "source": [
    "# Exploring Hacker News Posts\n",
    "Hacker News is a site started by the startup incubator [Y Combinator](https://www.ycombinator.com/) , where user-submitted stories (known as \"posts\") are voted and commented upon, similar to reddit. Hacker News is extremely popular in technology and startup circles, and posts that make it to the top of Hacker News' listings can get hundreds of thousands of visitors as a result.\n",
    "\n",
    "The dataset is available [here](https://www.kaggle.com/hacker-news/hacker-news-posts).But note that the data has been reduced from almost 300,000 rows to approximately 20,000 rows by removing all submissions that did not receive any comments and then randomly sampling from the remaining submissions.\n",
    "\n"
   ]
  },
  {
   "cell_type": "code",
   "execution_count": 1,
   "metadata": {},
   "outputs": [
    {
     "data": {
      "text/plain": [
       "[['id', 'title', 'url', 'num_points', 'num_comments', 'author', 'created_at'],\n",
       " ['12224879',\n",
       "  'Interactive Dynamic Video',\n",
       "  'http://www.interactivedynamicvideo.com/',\n",
       "  '386',\n",
       "  '52',\n",
       "  'ne0phyte',\n",
       "  '8/4/2016 11:52'],\n",
       " ['10975351',\n",
       "  'How to Use Open Source and Shut the Fuck Up at the Same Time',\n",
       "  'http://hueniverse.com/2016/01/26/how-to-use-open-source-and-shut-the-fuck-up-at-the-same-time/',\n",
       "  '39',\n",
       "  '10',\n",
       "  'josep2',\n",
       "  '1/26/2016 19:30'],\n",
       " ['11964716',\n",
       "  \"Florida DJs May Face Felony for April Fools' Water Joke\",\n",
       "  'http://www.thewire.com/entertainment/2013/04/florida-djs-april-fools-water-joke/63798/',\n",
       "  '2',\n",
       "  '1',\n",
       "  'vezycash',\n",
       "  '6/23/2016 22:20']]"
      ]
     },
     "execution_count": 1,
     "metadata": {},
     "output_type": "execute_result"
    }
   ],
   "source": [
    "#Import the dataset\n",
    "from csv import reader\n",
    "hn=list(reader(open(\"hacker_news.csv\")))\n",
    "hn[0:4]\n"
   ]
  },
  {
   "cell_type": "markdown",
   "metadata": {},
   "source": [
    "The descriptions of the columns are as below:\n",
    "The descriptions of the columns are as below:\n",
    "\n",
    "| **Column**   \t| **Description**                                                                                                            \t|\n",
    "|--------------\t|----------------------------------------------------------------------------------------------------------------------------\t|\n",
    "| id           \t|  The   unique identifier from Hacker News for the post                                                                     \t|\n",
    "| title        \t|  The title of the post                                                                                                     \t|\n",
    "| url          \t|  The URL that the posts links to,   if the post has a URL                                                                  \t|\n",
    "| num_points   \t|  The number of points the post   acquired, calculated as the total number of upvotes minus the total number of   downvotes \t|\n",
    "| num_comments \t|  The number of comments that were   made on the post                                                                       \t|\n",
    "\n",
    "We're specifically interested in posts whose titles begin with either Ask HN or Show HN. Users submit Ask HN posts to ask the Hacker News community a specific question. Below are a couple examples:\n",
    "\n",
    "* Ask HN: How to improve my personal website?\n",
    "* Ask HN: Am I the only one outraged by Twitter shutting down share counts?\n",
    "* Ask HN: Aby recent changes to CSS that broke mobile?\n",
    "\n",
    "Likewise, users submit Show HN posts to show the Hacker News community a project, product, or just generally something interesting. Below are a couple of examples:\n",
    "\n",
    "* Show HN: Wio Link  ESP8266 Based Web of Things Hardware Development Platform'\n",
    "* Show HN: Something pointless I made\n",
    "* Show HN: Shanhu.io, a programming playground powered by e8vm\n",
    "\n",
    "We'll compare these two types of posts to determine the following:\n",
    "* Do Ask HN or Show HN receive more comments on average?\n",
    "* Do posts created at a certain time receive more comments on average?\n"
   ]
  },
  {
   "cell_type": "markdown",
   "metadata": {},
   "source": [
    "As we display the first five rows of the dataset we can see that the first row is headers.In order to analyze our data we need to remove the row containing header."
   ]
  },
  {
   "cell_type": "code",
   "execution_count": 2,
   "metadata": {},
   "outputs": [
    {
     "name": "stdout",
     "output_type": "stream",
     "text": [
      "Headers -  ['id', 'title', 'url', 'num_points', 'num_comments', 'author', 'created_at']\n",
      "First five rows for ask posts:  \n",
      " [['12224879', 'Interactive Dynamic Video', 'http://www.interactivedynamicvideo.com/', '386', '52', 'ne0phyte', '8/4/2016 11:52'], ['10975351', 'How to Use Open Source and Shut the Fuck Up at the Same Time', 'http://hueniverse.com/2016/01/26/how-to-use-open-source-and-shut-the-fuck-up-at-the-same-time/', '39', '10', 'josep2', '1/26/2016 19:30'], ['11964716', \"Florida DJs May Face Felony for April Fools' Water Joke\", 'http://www.thewire.com/entertainment/2013/04/florida-djs-april-fools-water-joke/63798/', '2', '1', 'vezycash', '6/23/2016 22:20'], ['11919867', 'Technology ventures: From Idea to Enterprise', 'https://www.amazon.com/Technology-Ventures-Enterprise-Thomas-Byers/dp/0073523429', '3', '1', 'hswarna', '6/17/2016 0:01']]\n"
     ]
    }
   ],
   "source": [
    "#Assigning the header row to headers variable\n",
    "headers=hn[0]\n",
    "#Remove the first wor from hn\n",
    "hn=hn[1:]\n",
    "#Display headers\n",
    "print(\"Headers - \",headers)\n",
    "#Display first five rows of hn to ensure that header row was removed\n",
    "print(\"First five rows for ask posts: \",\"\\n\",hn[0:4])\n"
   ]
  },
  {
   "cell_type": "markdown",
   "metadata": {},
   "source": [
    "## Filtering posts with Ask HN,Show HN and Others\n",
    "Now that we've removed the headers from hn, we're ready to filter our data. Since we're only concerned with post titles beginning with Ask HN or Show HN, we'll create new lists of lists containing just the data for those titles."
   ]
  },
  {
   "cell_type": "markdown",
   "metadata": {},
   "source": []
  },
  {
   "cell_type": "code",
   "execution_count": 3,
   "metadata": {},
   "outputs": [
    {
     "name": "stdout",
     "output_type": "stream",
     "text": [
      "Number of aks posts is  1744\n",
      "Number of show posts is  1162\n",
      "number of other posts is  17194\n",
      "First five rows for ask posts:  \n",
      " [['12296411', 'Ask HN: How to improve my personal website?', '', '2', '6', 'ahmedbaracat', '8/16/2016 9:55'], ['10610020', 'Ask HN: Am I the only one outraged by Twitter shutting down share counts?', '', '28', '29', 'tkfx', '11/22/2015 13:43'], ['11610310', 'Ask HN: Aby recent changes to CSS that broke mobile?', '', '1', '1', 'polskibus', '5/2/2016 10:14'], ['12210105', 'Ask HN: Looking for Employee #3 How do I do it?', '', '1', '3', 'sph130', '8/2/2016 14:20'], ['10394168', 'Ask HN: Someone offered to buy my browser extension from me. What now?', '', '28', '17', 'roykolak', '10/15/2015 16:38']]\n",
      "First five rows for show posts:  \n",
      " [['10627194', 'Show HN: Wio Link  ESP8266 Based Web of Things Hardware Development Platform', 'https://iot.seeed.cc', '26', '22', 'kfihihc', '11/25/2015 14:03'], ['10646440', 'Show HN: Something pointless I made', 'http://dn.ht/picklecat/', '747', '102', 'dhotson', '11/29/2015 22:46'], ['11590768', 'Show HN: Shanhu.io, a programming playground powered by e8vm', 'https://shanhu.io', '1', '1', 'h8liu', '4/28/2016 18:05'], ['12178806', 'Show HN: Webscope  Easy way for web developers to communicate with Clients', 'http://webscopeapp.com', '3', '3', 'fastbrick', '7/28/2016 7:11'], ['10872799', 'Show HN: GeoScreenshot  Easily test Geo-IP based web pages', 'https://www.geoscreenshot.com/', '1', '9', 'kpsychwave', '1/9/2016 20:45']]\n"
     ]
    }
   ],
   "source": [
    "#Create seperate lists for ask,show and other posts\n",
    "ask_posts=[]\n",
    "show_posts=[]\n",
    "other_posts=[]\n",
    "for i in hn:\n",
    "    title=i[1]\n",
    "    title_lower=title.lower()\n",
    "    if title_lower.startswith(\"ask hn\"):\n",
    "        ask_posts.append(i)\n",
    "    elif title_lower.startswith(\"show hn\"):\n",
    "        show_posts.append(i)\n",
    "    else:\n",
    "        other_posts.append(i)\n",
    "print(\"Number of aks posts is \",len(ask_posts))\n",
    "print(\"Number of show posts is \",len(show_posts))\n",
    "print(\"number of other posts is \",len(other_posts))\n",
    "print(\"First five rows for ask posts: \",\"\\n\",ask_posts[0:5])\n",
    "print(\"First five rows for show posts: \",\"\\n\",show_posts[0:5])\n",
    "\n"
   ]
  },
  {
   "cell_type": "markdown",
   "metadata": {},
   "source": [
    "## Determining if ask posts or show posts receive more comments\n"
   ]
  },
  {
   "cell_type": "code",
   "execution_count": 4,
   "metadata": {},
   "outputs": [
    {
     "name": "stdout",
     "output_type": "stream",
     "text": [
      "Avg comments for ask posts are  14.038417431192661\n",
      "Avg comments for show posts are  10.31669535283993\n"
     ]
    }
   ],
   "source": [
    "# Total number of comments for ask posts\n",
    "total_ask_comments=0\n",
    "for i in ask_posts:\n",
    "    num_comments=int(i[4])\n",
    "    total_ask_comments=total_ask_comments+num_comments\n",
    "# Avg comments for ask posts\n",
    "avg_ask_comments=total_ask_comments/len(ask_posts)\n",
    "print(\"Avg comments for ask posts are \",avg_ask_comments)\n",
    "\n",
    "# Total number of comments for show posts\n",
    "total_show_comments=0\n",
    "for i in show_posts:\n",
    "    num_comments=int(i[4])\n",
    "    total_show_comments=total_show_comments+num_comments\n",
    "# Avg comments for ask posts\n",
    "avg_show_comments=total_show_comments/len(show_posts)\n",
    "print(\"Avg comments for show posts are \",avg_show_comments)\n",
    "    "
   ]
  },
  {
   "cell_type": "markdown",
   "metadata": {},
   "source": [
    "Looking at the average comments for ask and show posts we can infer that ask posta receive more comments than show posts.Since ask posts are more likely to receive comments we will focus our remaining analysis just on these posts"
   ]
  },
  {
   "cell_type": "markdown",
   "metadata": {},
   "source": [
    "## Determine if ask posts at a certain time receive more comments\n",
    "Since we will now be focussing only on ask posts we would first start by analyzing if ask posts receive higher comments at a certain time.For this we will follow the below steps:\n",
    "1. Calculate the amount of ask posts created in each hour of the day, along with the number of comments received.\n",
    "2. Calculate the average number of comments ask posts receive by hour created.\n",
    "\n"
   ]
  },
  {
   "cell_type": "code",
   "execution_count": 5,
   "metadata": {
    "scrolled": true
   },
   "outputs": [
    {
     "name": "stdout",
     "output_type": "stream",
     "text": [
      "Avg by hour  \n",
      " [['09', 5.5777777777777775], ['13', 14.741176470588234], ['10', 13.440677966101696], ['14', 13.233644859813085], ['16', 16.796296296296298], ['23', 7.985294117647059], ['12', 9.41095890410959], ['17', 11.46], ['15', 38.5948275862069], ['21', 16.009174311926607], ['20', 21.525], ['02', 23.810344827586206], ['18', 13.20183486238532], ['03', 7.796296296296297], ['05', 10.08695652173913], ['19', 10.8], ['01', 11.383333333333333], ['22', 6.746478873239437], ['08', 10.25], ['04', 7.170212765957447], ['00', 8.127272727272727], ['06', 9.022727272727273], ['07', 7.852941176470588], ['11', 11.051724137931034]]\n"
     ]
    }
   ],
   "source": [
    "#Import the datetime module\n",
    "import datetime as dt\n",
    "#Create an empty string and assign it to result list.\n",
    "#This will be lists of lists with each sub list as date and no of comments\n",
    "result_list=[]\n",
    "for i in ask_posts:\n",
    "    created_at=i[6]\n",
    "    number_of_comments=int(i[4])\n",
    "    result_list.append([created_at,number_of_comments])\n",
    "#Create two empty dictionaries called counts by hour and comments by hour\n",
    "counts_by_hour={}\n",
    "comments_by_hour={}\n",
    "for i in result_list:\n",
    "    date=i[0]\n",
    "    no_of_comments=i[1]\n",
    "    date=dt.datetime.strptime(date,\"%m/%d/%Y %H:%M\")\n",
    "    hour=date.strftime(\"%H\")\n",
    "    if hour in counts_by_hour:\n",
    "        counts_by_hour[hour]+=1\n",
    "        comments_by_hour[hour]=comments_by_hour[hour]+no_of_comments\n",
    "    else:\n",
    "        counts_by_hour[hour]=1\n",
    "        comments_by_hour[hour]=no_of_comments\n",
    "#Calculate the average number of comments per hour\n",
    "avg_by_hour=[]\n",
    "for i in counts_by_hour:\n",
    "    avg_by_hour.append([i,(comments_by_hour[i]/counts_by_hour[i])])\n",
    "\n",
    "print(\"Avg by hour \",\"\\n\",avg_by_hour)\n",
    "    "
   ]
  },
  {
   "cell_type": "markdown",
   "metadata": {},
   "source": [
    "## Sorting the avg comments by hour list of lists\n",
    "We now have the results we need.However the above format makes it difficult to identify hours with highest values.Hence we will sort the list of lists and print the five highest values in a format easier to read\n"
   ]
  },
  {
   "cell_type": "code",
   "execution_count": 6,
   "metadata": {
    "scrolled": true
   },
   "outputs": [
    {
     "name": "stdout",
     "output_type": "stream",
     "text": [
      "swap_avg_by_hour: \n",
      " \n",
      " [[5.5777777777777775, '09'], [14.741176470588234, '13'], [13.440677966101696, '10'], [13.233644859813085, '14'], [16.796296296296298, '16'], [7.985294117647059, '23'], [9.41095890410959, '12'], [11.46, '17'], [38.5948275862069, '15'], [16.009174311926607, '21'], [21.525, '20'], [23.810344827586206, '02'], [13.20183486238532, '18'], [7.796296296296297, '03'], [10.08695652173913, '05'], [10.8, '19'], [11.383333333333333, '01'], [6.746478873239437, '22'], [10.25, '08'], [7.170212765957447, '04'], [8.127272727272727, '00'], [9.022727272727273, '06'], [7.852941176470588, '07'], [11.051724137931034, '11']]\n",
      "Top 5 Hours for Ask Posts Comments\n",
      "15:00: 38.59 average comments per post\n",
      "02:00: 23.81 average comments per post\n",
      "20:00: 21.52 average comments per post\n",
      "16:00: 16.80 average comments per post\n",
      "21:00: 16.01 average comments per post\n",
      "13:00: 14.74 average comments per post\n",
      "10:00: 13.44 average comments per post\n",
      "14:00: 13.23 average comments per post\n",
      "18:00: 13.20 average comments per post\n",
      "17:00: 11.46 average comments per post\n",
      "01:00: 11.38 average comments per post\n",
      "11:00: 11.05 average comments per post\n",
      "19:00: 10.80 average comments per post\n",
      "08:00: 10.25 average comments per post\n",
      "05:00: 10.09 average comments per post\n",
      "12:00: 9.41 average comments per post\n",
      "06:00: 9.02 average comments per post\n",
      "00:00: 8.13 average comments per post\n",
      "23:00: 7.99 average comments per post\n",
      "07:00: 7.85 average comments per post\n",
      "03:00: 7.80 average comments per post\n",
      "04:00: 7.17 average comments per post\n",
      "22:00: 6.75 average comments per post\n",
      "09:00: 5.58 average comments per post\n"
     ]
    }
   ],
   "source": [
    "#Swap the columns in avg by hour lists\n",
    "swap_avg_by_hour=[]\n",
    "for i in avg_by_hour:\n",
    "    swap_avg_by_hour.append([i[1],i[0]])\n",
    "print(\"swap_avg_by_hour:\",\"\\n\",\"\\n\",swap_avg_by_hour)\n",
    "#Use the sorted function to sort the above created list\n",
    "#Since the first column is number of comments sorting will sort by avg number of comments\n",
    "\n",
    "sorted_swap=sorted(swap_avg_by_hour,reverse=True)\n",
    "\n",
    "#Print the Top 5 Hours for Ask Posts Comments\n",
    "print(\"Top 5 Hours for Ask Posts Comments\")\n",
    "for avg,hour in sorted_swap:\n",
    "    dt_hour=dt.datetime.strptime(hour,\"%H\")\n",
    "    format_hour=dt.datetime.strftime(dt_hour,\"%H:%M\")\n",
    "    template=\"{format_hour}: {avg:.2f} average comments per post\"\n",
    "    print(template.format(format_hour=format_hour,avg=avg))\n",
    "\n",
    "    "
   ]
  },
  {
   "cell_type": "markdown",
   "metadata": {},
   "source": [
    "# Conclusion\n",
    "As per the results above we can see that highest average number of comments is for 15:00 Hour.If we refer to the [documentation for the dataset](https://www.kaggle.com/hacker-news/hacker-news-posts) we can see that the timezone mentioned is Eastern Time in US.As per the same 15:00 Hour would be 3 pm est.We can see that there is approximately 60% increase with top 2 hours with highest number of comments\n",
    "\n",
    "However note that as we mentioned at the top we have excluded posts with no comments.As per the analysis we can see that ask posts receive more comments on average and the highest number of comments are received in the timeframe of 15:00 to 16:00 hrs(3pm est to 4pm est)."
   ]
  }
 ],
 "metadata": {
  "kernelspec": {
   "display_name": "Python 3",
   "language": "python",
   "name": "python3"
  },
  "language_info": {
   "codemirror_mode": {
    "name": "ipython",
    "version": 3
   },
   "file_extension": ".py",
   "mimetype": "text/x-python",
   "name": "python",
   "nbconvert_exporter": "python",
   "pygments_lexer": "ipython3",
   "version": "3.8.2"
  }
 },
 "nbformat": 4,
 "nbformat_minor": 2
}
