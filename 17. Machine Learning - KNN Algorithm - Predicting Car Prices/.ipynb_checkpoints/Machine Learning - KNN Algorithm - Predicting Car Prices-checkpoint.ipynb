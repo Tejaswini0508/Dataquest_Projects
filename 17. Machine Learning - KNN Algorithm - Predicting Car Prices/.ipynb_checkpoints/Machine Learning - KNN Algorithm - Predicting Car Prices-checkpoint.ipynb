{
 "cells": [
  {
   "cell_type": "markdown",
   "metadata": {
    "collapsed": true
   },
   "source": [
    "# Predicting Car Prices\n",
    "\n",
    "In this project we will be working with a cars dataset. The dataset can be downloaded from [here](https://archive.ics.uci.edu/ml/machine-learning-databases/autos/imports-85.data) and more information on the dataset is available [here](https://archive.ics.uci.edu/ml/datasets/automobile).The dataset contains technical aspects of the vehicle such as motor's displacement,weight of the car,miles per gallon etc.\n",
    "\n",
    "The objective of this project is to determine the price of the car using the available features. We will be using the KNN Algorithm to predict the car price."
   ]
  },
  {
   "cell_type": "code",
   "execution_count": 1,
   "metadata": {},
   "outputs": [],
   "source": [
    "# Import and explore the dataset\n",
    "\n",
    "import pandas as pd\n",
    "import numpy as np\n",
    "cars=pd.read_csv(\"imports-85.data\")\n",
    "\n",
    "pd.set_option('display.max_columns', None)\n",
    "pd.set_option('display.max_rows', None)\n"
   ]
  },
  {
   "cell_type": "code",
   "execution_count": 2,
   "metadata": {
    "scrolled": true
   },
   "outputs": [
    {
     "data": {
      "text/html": [
       "<div>\n",
       "<style scoped>\n",
       "    .dataframe tbody tr th:only-of-type {\n",
       "        vertical-align: middle;\n",
       "    }\n",
       "\n",
       "    .dataframe tbody tr th {\n",
       "        vertical-align: top;\n",
       "    }\n",
       "\n",
       "    .dataframe thead th {\n",
       "        text-align: right;\n",
       "    }\n",
       "</style>\n",
       "<table border=\"1\" class=\"dataframe\">\n",
       "  <thead>\n",
       "    <tr style=\"text-align: right;\">\n",
       "      <th></th>\n",
       "      <th>3</th>\n",
       "      <th>?</th>\n",
       "      <th>alfa-romero</th>\n",
       "      <th>gas</th>\n",
       "      <th>std</th>\n",
       "      <th>two</th>\n",
       "      <th>convertible</th>\n",
       "      <th>rwd</th>\n",
       "      <th>front</th>\n",
       "      <th>88.60</th>\n",
       "      <th>168.80</th>\n",
       "      <th>64.10</th>\n",
       "      <th>48.80</th>\n",
       "      <th>2548</th>\n",
       "      <th>dohc</th>\n",
       "      <th>four</th>\n",
       "      <th>130</th>\n",
       "      <th>mpfi</th>\n",
       "      <th>3.47</th>\n",
       "      <th>2.68</th>\n",
       "      <th>9.00</th>\n",
       "      <th>111</th>\n",
       "      <th>5000</th>\n",
       "      <th>21</th>\n",
       "      <th>27</th>\n",
       "      <th>13495</th>\n",
       "    </tr>\n",
       "  </thead>\n",
       "  <tbody>\n",
       "    <tr>\n",
       "      <th>0</th>\n",
       "      <td>3</td>\n",
       "      <td>?</td>\n",
       "      <td>alfa-romero</td>\n",
       "      <td>gas</td>\n",
       "      <td>std</td>\n",
       "      <td>two</td>\n",
       "      <td>convertible</td>\n",
       "      <td>rwd</td>\n",
       "      <td>front</td>\n",
       "      <td>88.6</td>\n",
       "      <td>168.8</td>\n",
       "      <td>64.1</td>\n",
       "      <td>48.8</td>\n",
       "      <td>2548</td>\n",
       "      <td>dohc</td>\n",
       "      <td>four</td>\n",
       "      <td>130</td>\n",
       "      <td>mpfi</td>\n",
       "      <td>3.47</td>\n",
       "      <td>2.68</td>\n",
       "      <td>9.0</td>\n",
       "      <td>111</td>\n",
       "      <td>5000</td>\n",
       "      <td>21</td>\n",
       "      <td>27</td>\n",
       "      <td>16500</td>\n",
       "    </tr>\n",
       "    <tr>\n",
       "      <th>1</th>\n",
       "      <td>1</td>\n",
       "      <td>?</td>\n",
       "      <td>alfa-romero</td>\n",
       "      <td>gas</td>\n",
       "      <td>std</td>\n",
       "      <td>two</td>\n",
       "      <td>hatchback</td>\n",
       "      <td>rwd</td>\n",
       "      <td>front</td>\n",
       "      <td>94.5</td>\n",
       "      <td>171.2</td>\n",
       "      <td>65.5</td>\n",
       "      <td>52.4</td>\n",
       "      <td>2823</td>\n",
       "      <td>ohcv</td>\n",
       "      <td>six</td>\n",
       "      <td>152</td>\n",
       "      <td>mpfi</td>\n",
       "      <td>2.68</td>\n",
       "      <td>3.47</td>\n",
       "      <td>9.0</td>\n",
       "      <td>154</td>\n",
       "      <td>5000</td>\n",
       "      <td>19</td>\n",
       "      <td>26</td>\n",
       "      <td>16500</td>\n",
       "    </tr>\n",
       "    <tr>\n",
       "      <th>2</th>\n",
       "      <td>2</td>\n",
       "      <td>164</td>\n",
       "      <td>audi</td>\n",
       "      <td>gas</td>\n",
       "      <td>std</td>\n",
       "      <td>four</td>\n",
       "      <td>sedan</td>\n",
       "      <td>fwd</td>\n",
       "      <td>front</td>\n",
       "      <td>99.8</td>\n",
       "      <td>176.6</td>\n",
       "      <td>66.2</td>\n",
       "      <td>54.3</td>\n",
       "      <td>2337</td>\n",
       "      <td>ohc</td>\n",
       "      <td>four</td>\n",
       "      <td>109</td>\n",
       "      <td>mpfi</td>\n",
       "      <td>3.19</td>\n",
       "      <td>3.40</td>\n",
       "      <td>10.0</td>\n",
       "      <td>102</td>\n",
       "      <td>5500</td>\n",
       "      <td>24</td>\n",
       "      <td>30</td>\n",
       "      <td>13950</td>\n",
       "    </tr>\n",
       "  </tbody>\n",
       "</table>\n",
       "</div>"
      ],
      "text/plain": [
       "   3    ?  alfa-romero  gas  std   two  convertible  rwd  front  88.60  \\\n",
       "0  3    ?  alfa-romero  gas  std   two  convertible  rwd  front   88.6   \n",
       "1  1    ?  alfa-romero  gas  std   two    hatchback  rwd  front   94.5   \n",
       "2  2  164         audi  gas  std  four        sedan  fwd  front   99.8   \n",
       "\n",
       "   168.80  64.10  48.80  2548  dohc  four  130  mpfi  3.47  2.68  9.00  111  \\\n",
       "0   168.8   64.1   48.8  2548  dohc  four  130  mpfi  3.47  2.68   9.0  111   \n",
       "1   171.2   65.5   52.4  2823  ohcv   six  152  mpfi  2.68  3.47   9.0  154   \n",
       "2   176.6   66.2   54.3  2337   ohc  four  109  mpfi  3.19  3.40  10.0  102   \n",
       "\n",
       "   5000  21  27  13495  \n",
       "0  5000  21  27  16500  \n",
       "1  5000  19  26  16500  \n",
       "2  5500  24  30  13950  "
      ]
     },
     "execution_count": 2,
     "metadata": {},
     "output_type": "execute_result"
    }
   ],
   "source": [
    "cars.head(3)"
   ]
  },
  {
   "cell_type": "markdown",
   "metadata": {},
   "source": [
    "When we look at the documentation of the dataset we can see that the column names do not match. We can correct this by specifying column names and passing the column names as names parameter while reading the file."
   ]
  },
  {
   "cell_type": "code",
   "execution_count": 3,
   "metadata": {},
   "outputs": [],
   "source": [
    "col_names = ['symboling', 'normalized-losses', 'make', 'fuel-type', 'aspiration', 'num-of-doors', 'body-style', \n",
    "        'drive-wheels', 'engine-location', 'wheel-base', 'length', 'width', 'height', 'curb-weight', 'engine-type', \n",
    "        'num-of-cylinders', 'engine-size', 'fuel-system', 'bore', 'stroke', 'compression-rate', 'horsepower', 'peak-rpm', 'city-mpg', 'highway-mpg', 'price']\n",
    "\n",
    "cars=pd.read_csv(\"imports-85.data\",names=col_names)"
   ]
  },
  {
   "cell_type": "code",
   "execution_count": 4,
   "metadata": {
    "scrolled": true
   },
   "outputs": [
    {
     "data": {
      "text/html": [
       "<div>\n",
       "<style scoped>\n",
       "    .dataframe tbody tr th:only-of-type {\n",
       "        vertical-align: middle;\n",
       "    }\n",
       "\n",
       "    .dataframe tbody tr th {\n",
       "        vertical-align: top;\n",
       "    }\n",
       "\n",
       "    .dataframe thead th {\n",
       "        text-align: right;\n",
       "    }\n",
       "</style>\n",
       "<table border=\"1\" class=\"dataframe\">\n",
       "  <thead>\n",
       "    <tr style=\"text-align: right;\">\n",
       "      <th></th>\n",
       "      <th>symboling</th>\n",
       "      <th>normalized-losses</th>\n",
       "      <th>make</th>\n",
       "      <th>fuel-type</th>\n",
       "      <th>aspiration</th>\n",
       "      <th>num-of-doors</th>\n",
       "      <th>body-style</th>\n",
       "      <th>drive-wheels</th>\n",
       "      <th>engine-location</th>\n",
       "      <th>wheel-base</th>\n",
       "      <th>length</th>\n",
       "      <th>width</th>\n",
       "      <th>height</th>\n",
       "      <th>curb-weight</th>\n",
       "      <th>engine-type</th>\n",
       "      <th>num-of-cylinders</th>\n",
       "      <th>engine-size</th>\n",
       "      <th>fuel-system</th>\n",
       "      <th>bore</th>\n",
       "      <th>stroke</th>\n",
       "      <th>compression-rate</th>\n",
       "      <th>horsepower</th>\n",
       "      <th>peak-rpm</th>\n",
       "      <th>city-mpg</th>\n",
       "      <th>highway-mpg</th>\n",
       "      <th>price</th>\n",
       "    </tr>\n",
       "  </thead>\n",
       "  <tbody>\n",
       "    <tr>\n",
       "      <th>0</th>\n",
       "      <td>3</td>\n",
       "      <td>?</td>\n",
       "      <td>alfa-romero</td>\n",
       "      <td>gas</td>\n",
       "      <td>std</td>\n",
       "      <td>two</td>\n",
       "      <td>convertible</td>\n",
       "      <td>rwd</td>\n",
       "      <td>front</td>\n",
       "      <td>88.6</td>\n",
       "      <td>168.8</td>\n",
       "      <td>64.1</td>\n",
       "      <td>48.8</td>\n",
       "      <td>2548</td>\n",
       "      <td>dohc</td>\n",
       "      <td>four</td>\n",
       "      <td>130</td>\n",
       "      <td>mpfi</td>\n",
       "      <td>3.47</td>\n",
       "      <td>2.68</td>\n",
       "      <td>9.0</td>\n",
       "      <td>111</td>\n",
       "      <td>5000</td>\n",
       "      <td>21</td>\n",
       "      <td>27</td>\n",
       "      <td>13495</td>\n",
       "    </tr>\n",
       "    <tr>\n",
       "      <th>1</th>\n",
       "      <td>3</td>\n",
       "      <td>?</td>\n",
       "      <td>alfa-romero</td>\n",
       "      <td>gas</td>\n",
       "      <td>std</td>\n",
       "      <td>two</td>\n",
       "      <td>convertible</td>\n",
       "      <td>rwd</td>\n",
       "      <td>front</td>\n",
       "      <td>88.6</td>\n",
       "      <td>168.8</td>\n",
       "      <td>64.1</td>\n",
       "      <td>48.8</td>\n",
       "      <td>2548</td>\n",
       "      <td>dohc</td>\n",
       "      <td>four</td>\n",
       "      <td>130</td>\n",
       "      <td>mpfi</td>\n",
       "      <td>3.47</td>\n",
       "      <td>2.68</td>\n",
       "      <td>9.0</td>\n",
       "      <td>111</td>\n",
       "      <td>5000</td>\n",
       "      <td>21</td>\n",
       "      <td>27</td>\n",
       "      <td>16500</td>\n",
       "    </tr>\n",
       "    <tr>\n",
       "      <th>2</th>\n",
       "      <td>1</td>\n",
       "      <td>?</td>\n",
       "      <td>alfa-romero</td>\n",
       "      <td>gas</td>\n",
       "      <td>std</td>\n",
       "      <td>two</td>\n",
       "      <td>hatchback</td>\n",
       "      <td>rwd</td>\n",
       "      <td>front</td>\n",
       "      <td>94.5</td>\n",
       "      <td>171.2</td>\n",
       "      <td>65.5</td>\n",
       "      <td>52.4</td>\n",
       "      <td>2823</td>\n",
       "      <td>ohcv</td>\n",
       "      <td>six</td>\n",
       "      <td>152</td>\n",
       "      <td>mpfi</td>\n",
       "      <td>2.68</td>\n",
       "      <td>3.47</td>\n",
       "      <td>9.0</td>\n",
       "      <td>154</td>\n",
       "      <td>5000</td>\n",
       "      <td>19</td>\n",
       "      <td>26</td>\n",
       "      <td>16500</td>\n",
       "    </tr>\n",
       "    <tr>\n",
       "      <th>3</th>\n",
       "      <td>2</td>\n",
       "      <td>164</td>\n",
       "      <td>audi</td>\n",
       "      <td>gas</td>\n",
       "      <td>std</td>\n",
       "      <td>four</td>\n",
       "      <td>sedan</td>\n",
       "      <td>fwd</td>\n",
       "      <td>front</td>\n",
       "      <td>99.8</td>\n",
       "      <td>176.6</td>\n",
       "      <td>66.2</td>\n",
       "      <td>54.3</td>\n",
       "      <td>2337</td>\n",
       "      <td>ohc</td>\n",
       "      <td>four</td>\n",
       "      <td>109</td>\n",
       "      <td>mpfi</td>\n",
       "      <td>3.19</td>\n",
       "      <td>3.40</td>\n",
       "      <td>10.0</td>\n",
       "      <td>102</td>\n",
       "      <td>5500</td>\n",
       "      <td>24</td>\n",
       "      <td>30</td>\n",
       "      <td>13950</td>\n",
       "    </tr>\n",
       "    <tr>\n",
       "      <th>4</th>\n",
       "      <td>2</td>\n",
       "      <td>164</td>\n",
       "      <td>audi</td>\n",
       "      <td>gas</td>\n",
       "      <td>std</td>\n",
       "      <td>four</td>\n",
       "      <td>sedan</td>\n",
       "      <td>4wd</td>\n",
       "      <td>front</td>\n",
       "      <td>99.4</td>\n",
       "      <td>176.6</td>\n",
       "      <td>66.4</td>\n",
       "      <td>54.3</td>\n",
       "      <td>2824</td>\n",
       "      <td>ohc</td>\n",
       "      <td>five</td>\n",
       "      <td>136</td>\n",
       "      <td>mpfi</td>\n",
       "      <td>3.19</td>\n",
       "      <td>3.40</td>\n",
       "      <td>8.0</td>\n",
       "      <td>115</td>\n",
       "      <td>5500</td>\n",
       "      <td>18</td>\n",
       "      <td>22</td>\n",
       "      <td>17450</td>\n",
       "    </tr>\n",
       "  </tbody>\n",
       "</table>\n",
       "</div>"
      ],
      "text/plain": [
       "   symboling normalized-losses         make fuel-type aspiration num-of-doors  \\\n",
       "0          3                 ?  alfa-romero       gas        std          two   \n",
       "1          3                 ?  alfa-romero       gas        std          two   \n",
       "2          1                 ?  alfa-romero       gas        std          two   \n",
       "3          2               164         audi       gas        std         four   \n",
       "4          2               164         audi       gas        std         four   \n",
       "\n",
       "    body-style drive-wheels engine-location  wheel-base  length  width  \\\n",
       "0  convertible          rwd           front        88.6   168.8   64.1   \n",
       "1  convertible          rwd           front        88.6   168.8   64.1   \n",
       "2    hatchback          rwd           front        94.5   171.2   65.5   \n",
       "3        sedan          fwd           front        99.8   176.6   66.2   \n",
       "4        sedan          4wd           front        99.4   176.6   66.4   \n",
       "\n",
       "   height  curb-weight engine-type num-of-cylinders  engine-size fuel-system  \\\n",
       "0    48.8         2548        dohc             four          130        mpfi   \n",
       "1    48.8         2548        dohc             four          130        mpfi   \n",
       "2    52.4         2823        ohcv              six          152        mpfi   \n",
       "3    54.3         2337         ohc             four          109        mpfi   \n",
       "4    54.3         2824         ohc             five          136        mpfi   \n",
       "\n",
       "   bore stroke  compression-rate horsepower peak-rpm  city-mpg  highway-mpg  \\\n",
       "0  3.47   2.68               9.0        111     5000        21           27   \n",
       "1  3.47   2.68               9.0        111     5000        21           27   \n",
       "2  2.68   3.47               9.0        154     5000        19           26   \n",
       "3  3.19   3.40              10.0        102     5500        24           30   \n",
       "4  3.19   3.40               8.0        115     5500        18           22   \n",
       "\n",
       "   price  \n",
       "0  13495  \n",
       "1  16500  \n",
       "2  16500  \n",
       "3  13950  \n",
       "4  17450  "
      ]
     },
     "execution_count": 4,
     "metadata": {},
     "output_type": "execute_result"
    }
   ],
   "source": [
    "cars.head()"
   ]
  },
  {
   "cell_type": "code",
   "execution_count": 5,
   "metadata": {
    "scrolled": true
   },
   "outputs": [
    {
     "name": "stdout",
     "output_type": "stream",
     "text": [
      "<class 'pandas.core.frame.DataFrame'>\n",
      "RangeIndex: 205 entries, 0 to 204\n",
      "Data columns (total 26 columns):\n",
      " #   Column             Non-Null Count  Dtype  \n",
      "---  ------             --------------  -----  \n",
      " 0   symboling          205 non-null    int64  \n",
      " 1   normalized-losses  205 non-null    object \n",
      " 2   make               205 non-null    object \n",
      " 3   fuel-type          205 non-null    object \n",
      " 4   aspiration         205 non-null    object \n",
      " 5   num-of-doors       205 non-null    object \n",
      " 6   body-style         205 non-null    object \n",
      " 7   drive-wheels       205 non-null    object \n",
      " 8   engine-location    205 non-null    object \n",
      " 9   wheel-base         205 non-null    float64\n",
      " 10  length             205 non-null    float64\n",
      " 11  width              205 non-null    float64\n",
      " 12  height             205 non-null    float64\n",
      " 13  curb-weight        205 non-null    int64  \n",
      " 14  engine-type        205 non-null    object \n",
      " 15  num-of-cylinders   205 non-null    object \n",
      " 16  engine-size        205 non-null    int64  \n",
      " 17  fuel-system        205 non-null    object \n",
      " 18  bore               205 non-null    object \n",
      " 19  stroke             205 non-null    object \n",
      " 20  compression-rate   205 non-null    float64\n",
      " 21  horsepower         205 non-null    object \n",
      " 22  peak-rpm           205 non-null    object \n",
      " 23  city-mpg           205 non-null    int64  \n",
      " 24  highway-mpg        205 non-null    int64  \n",
      " 25  price              205 non-null    object \n",
      "dtypes: float64(5), int64(5), object(16)\n",
      "memory usage: 41.8+ KB\n"
     ]
    }
   ],
   "source": [
    "cars.info()"
   ]
  },
  {
   "cell_type": "markdown",
   "metadata": {},
   "source": [
    "From the above we can see that **symboling,wheel base,length,width,height,curb-weight,engine-size,compression-rate,city-mpg  and highway-mpg** are all integer/float columns and can be used as features in KNN algorithm. Our target variable will be price. But we can see from above that **price** is not a numeric column. We will need to convert this column to numeric. \n",
    "\n",
    "We can see that normalized-losses,bore,stroke,horsepower,peak-rpm and price are the columns which are actually numeric but now appear to be of object type. We will need to convert them to float. Also the columns like num-of-doors  and num-of-cylinders have string values like two,three,four but then can also be converted to numbers."
   ]
  },
  {
   "cell_type": "markdown",
   "metadata": {},
   "source": [
    "# Datatype conversion of required columns"
   ]
  },
  {
   "cell_type": "code",
   "execution_count": 6,
   "metadata": {},
   "outputs": [],
   "source": [
    "# Convert the string columns to float\n",
    "\n",
    "import re\n",
    "import numpy as np\n",
    "\n",
    "cols_to_be_converted=[\"normalized-losses\",\"bore\",\"stroke\",\"horsepower\",\"peak-rpm\",\"price\"]\n",
    "\n",
    "for i in cols_to_be_converted:\n",
    "    cars[i]=cars[i].replace(\"?\",np.nan)\n",
    "    cars[i]=cars[i].astype(\"float\")"
   ]
  },
  {
   "cell_type": "markdown",
   "metadata": {},
   "source": [
    "# Dealing with Missing Values\n",
    "\n",
    "As we all know for the KNN algorithm to work we will need to clean the dataset for missing values. If there are any missing values in the dataset we will need to either replace them or delete them."
   ]
  },
  {
   "cell_type": "code",
   "execution_count": 7,
   "metadata": {
    "scrolled": true
   },
   "outputs": [
    {
     "data": {
      "text/plain": [
       "symboling             0\n",
       "normalized-losses    41\n",
       "make                  0\n",
       "fuel-type             0\n",
       "aspiration            0\n",
       "num-of-doors          0\n",
       "body-style            0\n",
       "drive-wheels          0\n",
       "engine-location       0\n",
       "wheel-base            0\n",
       "length                0\n",
       "width                 0\n",
       "height                0\n",
       "curb-weight           0\n",
       "engine-type           0\n",
       "num-of-cylinders      0\n",
       "engine-size           0\n",
       "fuel-system           0\n",
       "bore                  4\n",
       "stroke                4\n",
       "compression-rate      0\n",
       "horsepower            2\n",
       "peak-rpm              2\n",
       "city-mpg              0\n",
       "highway-mpg           0\n",
       "price                 4\n",
       "dtype: int64"
      ]
     },
     "execution_count": 7,
     "metadata": {},
     "output_type": "execute_result"
    }
   ],
   "source": [
    "cars.isnull().sum()"
   ]
  },
  {
   "cell_type": "markdown",
   "metadata": {
    "collapsed": true
   },
   "source": [
    "Because Price is the column we wan to predict we will get rid of the null values in that particular column. Also bore,stroke and peak-rpm have very low number of na values hence we will get rid of them as well. "
   ]
  },
  {
   "cell_type": "code",
   "execution_count": 8,
   "metadata": {},
   "outputs": [],
   "source": [
    "cars.dropna(subset=[\"price\",\"bore\",\"stroke\",\"peak-rpm\"],inplace=True)"
   ]
  },
  {
   "cell_type": "code",
   "execution_count": 9,
   "metadata": {
    "scrolled": true
   },
   "outputs": [
    {
     "data": {
      "text/plain": [
       "symboling             0\n",
       "normalized-losses    35\n",
       "make                  0\n",
       "fuel-type             0\n",
       "aspiration            0\n",
       "num-of-doors          0\n",
       "body-style            0\n",
       "drive-wheels          0\n",
       "engine-location       0\n",
       "wheel-base            0\n",
       "length                0\n",
       "width                 0\n",
       "height                0\n",
       "curb-weight           0\n",
       "engine-type           0\n",
       "num-of-cylinders      0\n",
       "engine-size           0\n",
       "fuel-system           0\n",
       "bore                  0\n",
       "stroke                0\n",
       "compression-rate      0\n",
       "horsepower            0\n",
       "peak-rpm              0\n",
       "city-mpg              0\n",
       "highway-mpg           0\n",
       "price                 0\n",
       "dtype: int64"
      ]
     },
     "execution_count": 9,
     "metadata": {},
     "output_type": "execute_result"
    }
   ],
   "source": [
    "cars.isnull().sum()"
   ]
  },
  {
   "cell_type": "markdown",
   "metadata": {},
   "source": [
    "For the normalized-losses column we now have ~35 NULL values. For this column we can replace the null values of the column by column means."
   ]
  },
  {
   "cell_type": "code",
   "execution_count": 10,
   "metadata": {},
   "outputs": [],
   "source": [
    "#Get the mean of all columns in dataframe\n",
    "cars_dfmean=cars.mean()\n",
    "\n",
    "#Replace the NaN values with means of the respective columns\n",
    "cars.fillna(cars_dfmean,inplace=True)"
   ]
  },
  {
   "cell_type": "code",
   "execution_count": 11,
   "metadata": {},
   "outputs": [
    {
     "data": {
      "text/plain": [
       "symboling            0\n",
       "normalized-losses    0\n",
       "make                 0\n",
       "fuel-type            0\n",
       "aspiration           0\n",
       "num-of-doors         0\n",
       "body-style           0\n",
       "drive-wheels         0\n",
       "engine-location      0\n",
       "wheel-base           0\n",
       "length               0\n",
       "width                0\n",
       "height               0\n",
       "curb-weight          0\n",
       "engine-type          0\n",
       "num-of-cylinders     0\n",
       "engine-size          0\n",
       "fuel-system          0\n",
       "bore                 0\n",
       "stroke               0\n",
       "compression-rate     0\n",
       "horsepower           0\n",
       "peak-rpm             0\n",
       "city-mpg             0\n",
       "highway-mpg          0\n",
       "price                0\n",
       "dtype: int64"
      ]
     },
     "execution_count": 11,
     "metadata": {},
     "output_type": "execute_result"
    }
   ],
   "source": [
    "cars.isnull().sum()"
   ]
  },
  {
   "cell_type": "markdown",
   "metadata": {},
   "source": [
    "Now we do not have any null values in the data. Now we will proceed with building model for the data."
   ]
  },
  {
   "cell_type": "markdown",
   "metadata": {},
   "source": [
    "# Outlier Treatment\n",
    "\n",
    "Before we actually start building in the model we need to take care of any outliers present in the data. The reason we are doing this is we will be using K Nearest Neighbours method to predict prices. Since it involves computing distance metrics it may get inflated by outliers."
   ]
  },
  {
   "cell_type": "code",
   "execution_count": 12,
   "metadata": {
    "scrolled": true
   },
   "outputs": [
    {
     "data": {
      "image/png": "[encoded data removed]",
      "text/plain": [
       "<Figure size 432x288 with 1 Axes>"
      ]
     },
     "metadata": {
      "needs_background": "light"
     },
     "output_type": "display_data"
    },
    {
     "data": {
      "image/png": "[encoded data removed]",
      "text/plain": [
       "<Figure size 432x288 with 1 Axes>"
      ]
     },
     "metadata": {
      "needs_background": "light"
     },
     "output_type": "display_data"
    },
    {
     "data": {
      "image/png": "[encoded data removed]",
      "text/plain": [
       "<Figure size 432x288 with 1 Axes>"
      ]
     },
     "metadata": {
      "needs_background": "light"
     },
     "output_type": "display_data"
    },
    {
     "data": {
      "image/png": "[encoded data removed]",
      "text/plain": [
       "<Figure size 432x288 with 1 Axes>"
      ]
     },
     "metadata": {
      "needs_background": "light"
     },
     "output_type": "display_data"
    },
    {
     "data": {
      "image/png": "[encoded data removed]",
      "text/plain": [
       "<Figure size 432x288 with 1 Axes>"
      ]
     },
     "metadata": {
      "needs_background": "light"
     },
     "output_type": "display_data"
    },
    {
     "data": {
      "image/png": "[encoded data removed]",
      "text/plain": [
       "<Figure size 432x288 with 1 Axes>"
      ]
     },
     "metadata": {
      "needs_background": "light"
     },
     "output_type": "display_data"
    },
    {
     "data": {
      "image/png": "[encoded data removed]",
      "text/plain": [
       "<Figure size 432x288 with 1 Axes>"
      ]
     },
     "metadata": {
      "needs_background": "light"
     },
     "output_type": "display_data"
    },
    {
     "data": {
      "image/png": "[encoded data removed]",
      "text/plain": [
       "<Figure size 432x288 with 1 Axes>"
      ]
     },
     "metadata": {
      "needs_background": "light"
     },
     "output_type": "display_data"
    },
    {
     "data": {
      "image/png": "[encoded data removed]",
      "text/plain": [
       "<Figure size 432x288 with 1 Axes>"
      ]
     },
     "metadata": {
      "needs_background": "light"
     },
     "output_type": "display_data"
    },
    {
     "data": {
      "image/png": "[encoded data removed]",
      "text/plain": [
       "<Figure size 432x288 with 1 Axes>"
      ]
     },
     "metadata": {
      "needs_background": "light"
     },
     "output_type": "display_data"
    },
    {
     "data": {
      "image/png": "[encoded data removed]",
      "text/plain": [
       "<Figure size 432x288 with 1 Axes>"
      ]
     },
     "metadata": {
      "needs_background": "light"
     },
     "output_type": "display_data"
    },
    {
     "data": {
      "image/png": "[encoded data removed]",
      "text/plain": [
       "<Figure size 432x288 with 1 Axes>"
      ]
     },
     "metadata": {
      "needs_background": "light"
     },
     "output_type": "display_data"
    },
    {
     "data": {
      "image/png": "[encoded data removed]",
      "text/plain": [
       "<Figure size 432x288 with 1 Axes>"
      ]
     },
     "metadata": {
      "needs_background": "light"
     },
     "output_type": "display_data"
    },
    {
     "data": {
      "image/png": "[encoded data removed]",
      "text/plain": [
       "<Figure size 432x288 with 1 Axes>"
      ]
     },
     "metadata": {
      "needs_background": "light"
     },
     "output_type": "display_data"
    },
    {
     "data": {
      "image/png": "[encoded data removed]",
      "text/plain": [
       "<Figure size 432x288 with 1 Axes>"
      ]
     },
     "metadata": {
      "needs_background": "light"
     },
     "output_type": "display_data"
    }
   ],
   "source": [
    "import seaborn as sns\n",
    "import matplotlib .pyplot as plt\n",
    "%matplotlib inline\n",
    "numeric_cols=['normalized-losses', 'wheel-base', 'length', 'width', 'height', 'curb-weight', 'engine-size', 'bore', 'stroke', 'compression-rate', 'horsepower', 'peak-rpm', 'city-mpg', 'highway-mpg', 'price']\n",
    "cars_numeric=cars[numeric_cols].copy()\n",
    "\n",
    "for column in cars_numeric:\n",
    "    plt.figure()\n",
    "    sns.boxplot(data=cars_numeric[column],orient=\"vertical\")\n"
   ]
  },
  {
   "cell_type": "markdown",
   "metadata": {},
   "source": [
    "From the above plots we can see that we have a few outliers for most of the columns. We can either get rid of them or replace them with lower limit if they are lesser or with upper limit if they are greater.\n",
    "\n",
    "We have outliers for normalized losses,wheel-base,width,engine-size,stroke,compression-rate,horsepower,peak_rpm,city-mpg,highway-mpg and price"
   ]
  },
  {
   "cell_type": "code",
   "execution_count": 13,
   "metadata": {},
   "outputs": [
    {
     "data": {
      "text/html": [
       "<div>\n",
       "<style scoped>\n",
       "    .dataframe tbody tr th:only-of-type {\n",
       "        vertical-align: middle;\n",
       "    }\n",
       "\n",
       "    .dataframe tbody tr th {\n",
       "        vertical-align: top;\n",
       "    }\n",
       "\n",
       "    .dataframe thead th {\n",
       "        text-align: right;\n",
       "    }\n",
       "</style>\n",
       "<table border=\"1\" class=\"dataframe\">\n",
       "  <thead>\n",
       "    <tr style=\"text-align: right;\">\n",
       "      <th></th>\n",
       "      <th>normalized-losses</th>\n",
       "      <th>wheel-base</th>\n",
       "      <th>length</th>\n",
       "      <th>width</th>\n",
       "      <th>height</th>\n",
       "      <th>curb-weight</th>\n",
       "      <th>engine-size</th>\n",
       "      <th>bore</th>\n",
       "      <th>stroke</th>\n",
       "      <th>compression-rate</th>\n",
       "      <th>horsepower</th>\n",
       "      <th>peak-rpm</th>\n",
       "      <th>city-mpg</th>\n",
       "      <th>highway-mpg</th>\n",
       "      <th>price</th>\n",
       "    </tr>\n",
       "  </thead>\n",
       "  <tbody>\n",
       "    <tr>\n",
       "      <th>count</th>\n",
       "      <td>195.000000</td>\n",
       "      <td>195.000000</td>\n",
       "      <td>195.000000</td>\n",
       "      <td>195.000000</td>\n",
       "      <td>195.000000</td>\n",
       "      <td>195.000000</td>\n",
       "      <td>195.000000</td>\n",
       "      <td>195.000000</td>\n",
       "      <td>195.000000</td>\n",
       "      <td>195.000000</td>\n",
       "      <td>195.000000</td>\n",
       "      <td>195.000000</td>\n",
       "      <td>195.000000</td>\n",
       "      <td>195.000000</td>\n",
       "      <td>195.000000</td>\n",
       "    </tr>\n",
       "    <tr>\n",
       "      <th>mean</th>\n",
       "      <td>121.300000</td>\n",
       "      <td>98.896410</td>\n",
       "      <td>174.256923</td>\n",
       "      <td>65.886154</td>\n",
       "      <td>53.861538</td>\n",
       "      <td>2559.000000</td>\n",
       "      <td>127.938462</td>\n",
       "      <td>3.329385</td>\n",
       "      <td>3.250308</td>\n",
       "      <td>10.194974</td>\n",
       "      <td>103.271795</td>\n",
       "      <td>5099.487179</td>\n",
       "      <td>25.374359</td>\n",
       "      <td>30.841026</td>\n",
       "      <td>13248.015385</td>\n",
       "    </tr>\n",
       "    <tr>\n",
       "      <th>std</th>\n",
       "      <td>32.231252</td>\n",
       "      <td>6.132038</td>\n",
       "      <td>12.476443</td>\n",
       "      <td>2.132484</td>\n",
       "      <td>2.396778</td>\n",
       "      <td>524.715799</td>\n",
       "      <td>41.433916</td>\n",
       "      <td>0.271866</td>\n",
       "      <td>0.314115</td>\n",
       "      <td>4.062109</td>\n",
       "      <td>37.869730</td>\n",
       "      <td>468.271381</td>\n",
       "      <td>6.401382</td>\n",
       "      <td>6.829315</td>\n",
       "      <td>8056.330093</td>\n",
       "    </tr>\n",
       "    <tr>\n",
       "      <th>min</th>\n",
       "      <td>65.000000</td>\n",
       "      <td>86.600000</td>\n",
       "      <td>141.100000</td>\n",
       "      <td>60.300000</td>\n",
       "      <td>47.800000</td>\n",
       "      <td>1488.000000</td>\n",
       "      <td>61.000000</td>\n",
       "      <td>2.540000</td>\n",
       "      <td>2.070000</td>\n",
       "      <td>7.000000</td>\n",
       "      <td>48.000000</td>\n",
       "      <td>4150.000000</td>\n",
       "      <td>13.000000</td>\n",
       "      <td>16.000000</td>\n",
       "      <td>5118.000000</td>\n",
       "    </tr>\n",
       "    <tr>\n",
       "      <th>25%</th>\n",
       "      <td>96.500000</td>\n",
       "      <td>94.500000</td>\n",
       "      <td>166.300000</td>\n",
       "      <td>64.050000</td>\n",
       "      <td>52.000000</td>\n",
       "      <td>2145.000000</td>\n",
       "      <td>98.000000</td>\n",
       "      <td>3.150000</td>\n",
       "      <td>3.110000</td>\n",
       "      <td>8.500000</td>\n",
       "      <td>70.000000</td>\n",
       "      <td>4800.000000</td>\n",
       "      <td>19.500000</td>\n",
       "      <td>25.000000</td>\n",
       "      <td>7756.500000</td>\n",
       "    </tr>\n",
       "    <tr>\n",
       "      <th>50%</th>\n",
       "      <td>121.300000</td>\n",
       "      <td>97.000000</td>\n",
       "      <td>173.200000</td>\n",
       "      <td>65.400000</td>\n",
       "      <td>54.100000</td>\n",
       "      <td>2414.000000</td>\n",
       "      <td>120.000000</td>\n",
       "      <td>3.310000</td>\n",
       "      <td>3.290000</td>\n",
       "      <td>9.000000</td>\n",
       "      <td>95.000000</td>\n",
       "      <td>5100.000000</td>\n",
       "      <td>25.000000</td>\n",
       "      <td>30.000000</td>\n",
       "      <td>10245.000000</td>\n",
       "    </tr>\n",
       "    <tr>\n",
       "      <th>75%</th>\n",
       "      <td>135.500000</td>\n",
       "      <td>102.400000</td>\n",
       "      <td>184.050000</td>\n",
       "      <td>66.900000</td>\n",
       "      <td>55.650000</td>\n",
       "      <td>2943.500000</td>\n",
       "      <td>145.500000</td>\n",
       "      <td>3.590000</td>\n",
       "      <td>3.410000</td>\n",
       "      <td>9.400000</td>\n",
       "      <td>116.000000</td>\n",
       "      <td>5500.000000</td>\n",
       "      <td>30.000000</td>\n",
       "      <td>35.000000</td>\n",
       "      <td>16509.000000</td>\n",
       "    </tr>\n",
       "    <tr>\n",
       "      <th>max</th>\n",
       "      <td>256.000000</td>\n",
       "      <td>120.900000</td>\n",
       "      <td>208.100000</td>\n",
       "      <td>72.000000</td>\n",
       "      <td>59.800000</td>\n",
       "      <td>4066.000000</td>\n",
       "      <td>326.000000</td>\n",
       "      <td>3.940000</td>\n",
       "      <td>4.170000</td>\n",
       "      <td>23.000000</td>\n",
       "      <td>262.000000</td>\n",
       "      <td>6600.000000</td>\n",
       "      <td>49.000000</td>\n",
       "      <td>54.000000</td>\n",
       "      <td>45400.000000</td>\n",
       "    </tr>\n",
       "  </tbody>\n",
       "</table>\n",
       "</div>"
      ],
      "text/plain": [
       "       normalized-losses  wheel-base      length       width      height  \\\n",
       "count         195.000000  195.000000  195.000000  195.000000  195.000000   \n",
       "mean          121.300000   98.896410  174.256923   65.886154   53.861538   \n",
       "std            32.231252    6.132038   12.476443    2.132484    2.396778   \n",
       "min            65.000000   86.600000  141.100000   60.300000   47.800000   \n",
       "25%            96.500000   94.500000  166.300000   64.050000   52.000000   \n",
       "50%           121.300000   97.000000  173.200000   65.400000   54.100000   \n",
       "75%           135.500000  102.400000  184.050000   66.900000   55.650000   \n",
       "max           256.000000  120.900000  208.100000   72.000000   59.800000   \n",
       "\n",
       "       curb-weight  engine-size        bore      stroke  compression-rate  \\\n",
       "count   195.000000   195.000000  195.000000  195.000000        195.000000   \n",
       "mean   2559.000000   127.938462    3.329385    3.250308         10.194974   \n",
       "std     524.715799    41.433916    0.271866    0.314115          4.062109   \n",
       "min    1488.000000    61.000000    2.540000    2.070000          7.000000   \n",
       "25%    2145.000000    98.000000    3.150000    3.110000          8.500000   \n",
       "50%    2414.000000   120.000000    3.310000    3.290000          9.000000   \n",
       "75%    2943.500000   145.500000    3.590000    3.410000          9.400000   \n",
       "max    4066.000000   326.000000    3.940000    4.170000         23.000000   \n",
       "\n",
       "       horsepower     peak-rpm    city-mpg  highway-mpg         price  \n",
       "count  195.000000   195.000000  195.000000   195.000000    195.000000  \n",
       "mean   103.271795  5099.487179   25.374359    30.841026  13248.015385  \n",
       "std     37.869730   468.271381    6.401382     6.829315   8056.330093  \n",
       "min     48.000000  4150.000000   13.000000    16.000000   5118.000000  \n",
       "25%     70.000000  4800.000000   19.500000    25.000000   7756.500000  \n",
       "50%     95.000000  5100.000000   25.000000    30.000000  10245.000000  \n",
       "75%    116.000000  5500.000000   30.000000    35.000000  16509.000000  \n",
       "max    262.000000  6600.000000   49.000000    54.000000  45400.000000  "
      ]
     },
     "execution_count": 13,
     "metadata": {},
     "output_type": "execute_result"
    }
   ],
   "source": [
    "cars_numeric.describe()"
   ]
  },
  {
   "cell_type": "code",
   "execution_count": 14,
   "metadata": {},
   "outputs": [
    {
     "data": {
      "text/plain": [
       "'\\ndef outlier_detection(column_name):\\n    column=cars_numeric[column_name]\\n    Q1=np.percentile(column,25)\\n    Q2=np.percentile(column,50)\\n    Q3=np.percentile(column,75)\\n    IQR=Q3-Q1\\n    low_lim=Q1-1.5*IQR\\n    up_lim=Q3+1.5*IQR\\n    cars_numeric[column]=np.where(column<low_lim,low_lim,column)\\n    cars_numeric[column]=np.where(column>up_lim,up_lim,column)\\n'"
      ]
     },
     "execution_count": 14,
     "metadata": {},
     "output_type": "execute_result"
    }
   ],
   "source": [
    "# Outlier function\n",
    "'''\n",
    "def outlier_detection(column_name):\n",
    "    column=cars_numeric[column_name]\n",
    "    Q1=np.percentile(column,25)\n",
    "    Q2=np.percentile(column,50)\n",
    "    Q3=np.percentile(column,75)\n",
    "    IQR=Q3-Q1\n",
    "    low_lim=Q1-1.5*IQR\n",
    "    up_lim=Q3+1.5*IQR\n",
    "    cars_numeric[column]=np.where(column<low_lim,low_lim,column)\n",
    "    cars_numeric[column]=np.where(column>up_lim,up_lim,column)\n",
    "'''"
   ]
  },
  {
   "cell_type": "code",
   "execution_count": 15,
   "metadata": {
    "scrolled": false
   },
   "outputs": [
    {
     "data": {
      "text/html": [
       "<div>\n",
       "<style scoped>\n",
       "    .dataframe tbody tr th:only-of-type {\n",
       "        vertical-align: middle;\n",
       "    }\n",
       "\n",
       "    .dataframe tbody tr th {\n",
       "        vertical-align: top;\n",
       "    }\n",
       "\n",
       "    .dataframe thead th {\n",
       "        text-align: right;\n",
       "    }\n",
       "</style>\n",
       "<table border=\"1\" class=\"dataframe\">\n",
       "  <thead>\n",
       "    <tr style=\"text-align: right;\">\n",
       "      <th></th>\n",
       "      <th>normalized-losses</th>\n",
       "      <th>wheel-base</th>\n",
       "      <th>length</th>\n",
       "      <th>width</th>\n",
       "      <th>height</th>\n",
       "      <th>curb-weight</th>\n",
       "      <th>engine-size</th>\n",
       "      <th>bore</th>\n",
       "      <th>stroke</th>\n",
       "      <th>compression-rate</th>\n",
       "      <th>horsepower</th>\n",
       "      <th>peak-rpm</th>\n",
       "      <th>city-mpg</th>\n",
       "      <th>highway-mpg</th>\n",
       "      <th>price</th>\n",
       "    </tr>\n",
       "  </thead>\n",
       "  <tbody>\n",
       "    <tr>\n",
       "      <th>count</th>\n",
       "      <td>195.000000</td>\n",
       "      <td>195.000000</td>\n",
       "      <td>195.000000</td>\n",
       "      <td>195.000000</td>\n",
       "      <td>195.000000</td>\n",
       "      <td>195.000000</td>\n",
       "      <td>195.000000</td>\n",
       "      <td>195.000000</td>\n",
       "      <td>195.000000</td>\n",
       "      <td>195.000000</td>\n",
       "      <td>195.000000</td>\n",
       "      <td>195.000000</td>\n",
       "      <td>195.000000</td>\n",
       "      <td>195.000000</td>\n",
       "      <td>195.000000</td>\n",
       "    </tr>\n",
       "    <tr>\n",
       "      <th>mean</th>\n",
       "      <td>121.300000</td>\n",
       "      <td>98.896410</td>\n",
       "      <td>174.256923</td>\n",
       "      <td>65.886154</td>\n",
       "      <td>53.861538</td>\n",
       "      <td>2559.000000</td>\n",
       "      <td>127.938462</td>\n",
       "      <td>3.329385</td>\n",
       "      <td>3.250308</td>\n",
       "      <td>10.194974</td>\n",
       "      <td>103.271795</td>\n",
       "      <td>5099.487179</td>\n",
       "      <td>25.374359</td>\n",
       "      <td>30.841026</td>\n",
       "      <td>13248.015385</td>\n",
       "    </tr>\n",
       "    <tr>\n",
       "      <th>std</th>\n",
       "      <td>32.231252</td>\n",
       "      <td>6.132038</td>\n",
       "      <td>12.476443</td>\n",
       "      <td>2.132484</td>\n",
       "      <td>2.396778</td>\n",
       "      <td>524.715799</td>\n",
       "      <td>41.433916</td>\n",
       "      <td>0.271866</td>\n",
       "      <td>0.314115</td>\n",
       "      <td>4.062109</td>\n",
       "      <td>37.869730</td>\n",
       "      <td>468.271381</td>\n",
       "      <td>6.401382</td>\n",
       "      <td>6.829315</td>\n",
       "      <td>8056.330093</td>\n",
       "    </tr>\n",
       "    <tr>\n",
       "      <th>min</th>\n",
       "      <td>65.000000</td>\n",
       "      <td>86.600000</td>\n",
       "      <td>141.100000</td>\n",
       "      <td>60.300000</td>\n",
       "      <td>47.800000</td>\n",
       "      <td>1488.000000</td>\n",
       "      <td>61.000000</td>\n",
       "      <td>2.540000</td>\n",
       "      <td>2.070000</td>\n",
       "      <td>7.000000</td>\n",
       "      <td>48.000000</td>\n",
       "      <td>4150.000000</td>\n",
       "      <td>13.000000</td>\n",
       "      <td>16.000000</td>\n",
       "      <td>5118.000000</td>\n",
       "    </tr>\n",
       "    <tr>\n",
       "      <th>25%</th>\n",
       "      <td>96.500000</td>\n",
       "      <td>94.500000</td>\n",
       "      <td>166.300000</td>\n",
       "      <td>64.050000</td>\n",
       "      <td>52.000000</td>\n",
       "      <td>2145.000000</td>\n",
       "      <td>98.000000</td>\n",
       "      <td>3.150000</td>\n",
       "      <td>3.110000</td>\n",
       "      <td>8.500000</td>\n",
       "      <td>70.000000</td>\n",
       "      <td>4800.000000</td>\n",
       "      <td>19.500000</td>\n",
       "      <td>25.000000</td>\n",
       "      <td>7756.500000</td>\n",
       "    </tr>\n",
       "    <tr>\n",
       "      <th>50%</th>\n",
       "      <td>121.300000</td>\n",
       "      <td>97.000000</td>\n",
       "      <td>173.200000</td>\n",
       "      <td>65.400000</td>\n",
       "      <td>54.100000</td>\n",
       "      <td>2414.000000</td>\n",
       "      <td>120.000000</td>\n",
       "      <td>3.310000</td>\n",
       "      <td>3.290000</td>\n",
       "      <td>9.000000</td>\n",
       "      <td>95.000000</td>\n",
       "      <td>5100.000000</td>\n",
       "      <td>25.000000</td>\n",
       "      <td>30.000000</td>\n",
       "      <td>10245.000000</td>\n",
       "    </tr>\n",
       "    <tr>\n",
       "      <th>75%</th>\n",
       "      <td>135.500000</td>\n",
       "      <td>102.400000</td>\n",
       "      <td>184.050000</td>\n",
       "      <td>66.900000</td>\n",
       "      <td>55.650000</td>\n",
       "      <td>2943.500000</td>\n",
       "      <td>145.500000</td>\n",
       "      <td>3.590000</td>\n",
       "      <td>3.410000</td>\n",
       "      <td>9.400000</td>\n",
       "      <td>116.000000</td>\n",
       "      <td>5500.000000</td>\n",
       "      <td>30.000000</td>\n",
       "      <td>35.000000</td>\n",
       "      <td>16509.000000</td>\n",
       "    </tr>\n",
       "    <tr>\n",
       "      <th>max</th>\n",
       "      <td>256.000000</td>\n",
       "      <td>120.900000</td>\n",
       "      <td>208.100000</td>\n",
       "      <td>72.000000</td>\n",
       "      <td>59.800000</td>\n",
       "      <td>4066.000000</td>\n",
       "      <td>326.000000</td>\n",
       "      <td>3.940000</td>\n",
       "      <td>4.170000</td>\n",
       "      <td>23.000000</td>\n",
       "      <td>262.000000</td>\n",
       "      <td>6600.000000</td>\n",
       "      <td>49.000000</td>\n",
       "      <td>54.000000</td>\n",
       "      <td>45400.000000</td>\n",
       "    </tr>\n",
       "  </tbody>\n",
       "</table>\n",
       "</div>"
      ],
      "text/plain": [
       "       normalized-losses  wheel-base      length       width      height  \\\n",
       "count         195.000000  195.000000  195.000000  195.000000  195.000000   \n",
       "mean          121.300000   98.896410  174.256923   65.886154   53.861538   \n",
       "std            32.231252    6.132038   12.476443    2.132484    2.396778   \n",
       "min            65.000000   86.600000  141.100000   60.300000   47.800000   \n",
       "25%            96.500000   94.500000  166.300000   64.050000   52.000000   \n",
       "50%           121.300000   97.000000  173.200000   65.400000   54.100000   \n",
       "75%           135.500000  102.400000  184.050000   66.900000   55.650000   \n",
       "max           256.000000  120.900000  208.100000   72.000000   59.800000   \n",
       "\n",
       "       curb-weight  engine-size        bore      stroke  compression-rate  \\\n",
       "count   195.000000   195.000000  195.000000  195.000000        195.000000   \n",
       "mean   2559.000000   127.938462    3.329385    3.250308         10.194974   \n",
       "std     524.715799    41.433916    0.271866    0.314115          4.062109   \n",
       "min    1488.000000    61.000000    2.540000    2.070000          7.000000   \n",
       "25%    2145.000000    98.000000    3.150000    3.110000          8.500000   \n",
       "50%    2414.000000   120.000000    3.310000    3.290000          9.000000   \n",
       "75%    2943.500000   145.500000    3.590000    3.410000          9.400000   \n",
       "max    4066.000000   326.000000    3.940000    4.170000         23.000000   \n",
       "\n",
       "       horsepower     peak-rpm    city-mpg  highway-mpg         price  \n",
       "count  195.000000   195.000000  195.000000   195.000000    195.000000  \n",
       "mean   103.271795  5099.487179   25.374359    30.841026  13248.015385  \n",
       "std     37.869730   468.271381    6.401382     6.829315   8056.330093  \n",
       "min     48.000000  4150.000000   13.000000    16.000000   5118.000000  \n",
       "25%     70.000000  4800.000000   19.500000    25.000000   7756.500000  \n",
       "50%     95.000000  5100.000000   25.000000    30.000000  10245.000000  \n",
       "75%    116.000000  5500.000000   30.000000    35.000000  16509.000000  \n",
       "max    262.000000  6600.000000   49.000000    54.000000  45400.000000  "
      ]
     },
     "execution_count": 15,
     "metadata": {},
     "output_type": "execute_result"
    }
   ],
   "source": [
    "cars_numeric.describe()"
   ]
  },
  {
   "cell_type": "code",
   "execution_count": 16,
   "metadata": {},
   "outputs": [],
   "source": [
    "for column_name in numeric_cols:\n",
    "    Q1=np.percentile(cars_numeric[column_name],25)\n",
    "    Q2=np.percentile(cars_numeric[column_name],50)\n",
    "    Q3=np.percentile(cars_numeric[column_name],75)\n",
    "    IQR=Q3-Q1\n",
    "    low_lim=Q1-1.5*IQR\n",
    "    up_lim=Q3+1.5*IQR\n",
    "    cars_numeric[column_name]=np.where(cars_numeric[column_name]<low_lim,low_lim,cars_numeric[column_name])\n",
    "    cars_numeric[column_name]=np.where(cars_numeric[column_name]>up_lim,up_lim,cars_numeric[column_name])\n",
    "    \n",
    "\n"
   ]
  },
  {
   "cell_type": "code",
   "execution_count": 17,
   "metadata": {
    "scrolled": true
   },
   "outputs": [
    {
     "data": {
      "image/png": "[encoded data removed]",
      "text/plain": [
       "<Figure size 432x288 with 1 Axes>"
      ]
     },
     "metadata": {
      "needs_background": "light"
     },
     "output_type": "display_data"
    },
    {
     "data": {
      "image/png": "[encoded data removed]",
      "text/plain": [
       "<Figure size 432x288 with 1 Axes>"
      ]
     },
     "metadata": {
      "needs_background": "light"
     },
     "output_type": "display_data"
    },
    {
     "data": {
      "image/png": "[encoded data removed]",
      "text/plain": [
       "<Figure size 432x288 with 1 Axes>"
      ]
     },
     "metadata": {
      "needs_background": "light"
     },
     "output_type": "display_data"
    },
    {
     "data": {
      "image/png": "[encoded data removed]",
      "text/plain": [
       "<Figure size 432x288 with 1 Axes>"
      ]
     },
     "metadata": {
      "needs_background": "light"
     },
     "output_type": "display_data"
    },
    {
     "data": {
      "image/png": "[encoded data removed]",
      "text/plain": [
       "<Figure size 432x288 with 1 Axes>"
      ]
     },
     "metadata": {
      "needs_background": "light"
     },
     "output_type": "display_data"
    },
    {
     "data": {
      "image/png": "[encoded data removed]",
      "text/plain": [
       "<Figure size 432x288 with 1 Axes>"
      ]
     },
     "metadata": {
      "needs_background": "light"
     },
     "output_type": "display_data"
    },
    {
     "data": {
      "image/png": "[encoded data removed]",
      "text/plain": [
       "<Figure size 432x288 with 1 Axes>"
      ]
     },
     "metadata": {
      "needs_background": "light"
     },
     "output_type": "display_data"
    },
    {
     "data": {
      "image/png": "[encoded data removed]",
      "text/plain": [
       "<Figure size 432x288 with 1 Axes>"
      ]
     },
     "metadata": {
      "needs_background": "light"
     },
     "output_type": "display_data"
    },
    {
     "data": {
      "image/png": "[encoded data removed]",
      "text/plain": [
       "<Figure size 432x288 with 1 Axes>"
      ]
     },
     "metadata": {
      "needs_background": "light"
     },
     "output_type": "display_data"
    },
    {
     "data": {
      "image/png": "[encoded data removed]",
      "text/plain": [
       "<Figure size 432x288 with 1 Axes>"
      ]
     },
     "metadata": {
      "needs_background": "light"
     },
     "output_type": "display_data"
    },
    {
     "data": {
      "image/png": "[encoded data removed]",
      "text/plain": [
       "<Figure size 432x288 with 1 Axes>"
      ]
     },
     "metadata": {
      "needs_background": "light"
     },
     "output_type": "display_data"
    },
    {
     "data": {
      "image/png": "[encoded data removed]",
      "text/plain": [
       "<Figure size 432x288 with 1 Axes>"
      ]
     },
     "metadata": {
      "needs_background": "light"
     },
     "output_type": "display_data"
    },
    {
     "data": {
      "image/png": "[encoded data removed]",
      "text/plain": [
       "<Figure size 432x288 with 1 Axes>"
      ]
     },
     "metadata": {
      "needs_background": "light"
     },
     "output_type": "display_data"
    },
    {
     "data": {
      "image/png": "[encoded data removed]",
      "text/plain": [
       "<Figure size 432x288 with 1 Axes>"
      ]
     },
     "metadata": {
      "needs_background": "light"
     },
     "output_type": "display_data"
    },
    {
     "data": {
      "image/png": "[encoded data removed]",
      "text/plain": [
       "<Figure size 432x288 with 1 Axes>"
      ]
     },
     "metadata": {
      "needs_background": "light"
     },
     "output_type": "display_data"
    }
   ],
   "source": [
    "for column in cars_numeric:\n",
    "    plt.figure()\n",
    "    sns.boxplot(data=cars_numeric[column],orient=\"vertical\")\n"
   ]
  },
  {
   "cell_type": "markdown",
   "metadata": {},
   "source": [
    "# Univariate Model\n",
    "\n",
    "At the start we can built up a univariate KNN model which will take in only one input variable and return the prediction. \n",
    "We can proceed with passing every single variable to the model and checking for the accuracy and the model  which gives us the best accuracy can be chosen as the best model."
   ]
  },
  {
   "cell_type": "code",
   "execution_count": 18,
   "metadata": {},
   "outputs": [],
   "source": [
    "# Funcion for knn univariate model\n",
    "\n",
    "from sklearn.neighbors import KNeighborsRegressor\n",
    "from sklearn.metrics import mean_squared_error\n",
    "from sklearn.model_selection import train_test_split\n",
    "\n",
    "def knn_uni_model(training_col,target_col,dataframe):\n",
    "    '''\n",
    "    Function takes in three inputs input variable,target variable and \n",
    "    dataframe\n",
    "    '''\n",
    "    normalized_data=(dataframe-dataframe.mean())/dataframe.std()\n",
    "    '''\n",
    "    Since KNN is a distance based algorithm it will be affected by the \n",
    "    magnitude of the values.Higher the value can mean higher distance resulting\n",
    "    in incorrect interpretation. To avoid this we will be standardizing the values.\n",
    "    '''\n",
    "    normalized_data[target_col]=dataframe[target_col]\n",
    "    '''\n",
    "    We do not want target column to be normalized since that is not going as \n",
    "    a input to the model.Hence we assign back the original values to the target \n",
    "    column.\n",
    "    '''\n",
    "    train_set,test_set=train_test_split(normalized_data,train_size=0.8,random_state=0)\n",
    "    '''\n",
    "    Split the data into train and test set randomly\n",
    "    Model will be trained on 80% of the data and will be tested on the remianing\n",
    "    20%. This will help to look at the accuracy of the model.\n",
    "    Random state is used to get the same splits every time\n",
    "    '''\n",
    "    knn=KNeighborsRegressor()\n",
    "    '''\n",
    "    Call the instance of the KNeighborsregressor Class\n",
    "    Default parameters will be k=5\n",
    "    '''\n",
    "    knn.fit(train_set[[training_col]],train_set[[target_col]])\n",
    "    '''\n",
    "    Fit the model to the train set using instance of KNeighborsRegressor class\n",
    "    We pass two parameters input variables and target variable(which we want to predict)\n",
    "    '''\n",
    "    predictions=knn.predict(test_set[[training_col]])\n",
    "    '''\n",
    "    Using the trained model we will make predictions on the test set.\n",
    "    '''\n",
    "    mse=mean_squared_error(test_set[[target_col]],predictions)\n",
    "    rmse=mse**(1/2)\n",
    "    return rmse"
   ]
  },
  {
   "cell_type": "code",
   "execution_count": 19,
   "metadata": {
    "scrolled": false
   },
   "outputs": [
    {
     "data": {
      "text/plain": [
       "6263.973987531746"
      ]
     },
     "execution_count": 19,
     "metadata": {},
     "output_type": "execute_result"
    }
   ],
   "source": [
    "# Testing the function\n",
    "knn_uni_model('normalized-losses','price',cars_numeric)"
   ]
  },
  {
   "cell_type": "markdown",
   "metadata": {},
   "source": [
    "Now that we have built up a function for a univariate model we will look at which variable gives us the lowest rmse value."
   ]
  },
  {
   "cell_type": "code",
   "execution_count": 34,
   "metadata": {
    "scrolled": false
   },
   "outputs": [
    {
     "data": {
      "text/plain": [
       "[('horsepower', 2254.539883981106),\n",
       " ('engine-size', 2505.744961353041),\n",
       " ('city-mpg', 2978.562714406706),\n",
       " ('curb-weight', 3020.4802366511194),\n",
       " ('width', 3028.8089990761414),\n",
       " ('highway-mpg', 3301.048081738392),\n",
       " ('length', 3727.566381814459),\n",
       " ('wheel-base', 4122.3541312922225),\n",
       " ('compression-rate', 5078.108434666472),\n",
       " ('bore', 5571.000296562088),\n",
       " ('stroke', 6253.829600824909),\n",
       " ('normalized-losses', 6263.973987531746),\n",
       " ('peak-rpm', 6945.102311166057),\n",
       " ('height', 7395.4336442999465)]"
      ]
     },
     "execution_count": 34,
     "metadata": {},
     "output_type": "execute_result"
    }
   ],
   "source": [
    "#\n",
    "rmse_values={}\n",
    "input_var=cars_numeric.columns\n",
    "\n",
    "for var in input_var:\n",
    "    if var!='price':\n",
    "        '''\n",
    "        Exclude price since that is our target variable\n",
    "        '''\n",
    "        rmse = knn_uni_model(var,'price',cars_numeric)\n",
    "        rmse_values[var]=rmse\n",
    "        \n",
    "sorted(rmse_values.items(),key=lambda x:x[1])\n",
    "# x[0] for key and x[1] for values "
   ]
  },
  {
   "cell_type": "markdown",
   "metadata": {},
   "source": [
    "By keeping the default parametes of KNeighborsRegressor we can see that horsepower variable is giving us the lowest RMSE which means horsepower able to predict the car price in a more better way compared to other variables.\n",
    "\n",
    "Further we will check by passing different k values to the KNeighborsRegressor class and check for the best input variable."
   ]
  },
  {
   "cell_type": "code",
   "execution_count": 21,
   "metadata": {},
   "outputs": [],
   "source": [
    "# Update the above function to pass different values for k\n",
    "def knn_uni_model_updated(training_col,target_col,dataframe):\n",
    "   \n",
    "    normalized_data=(dataframe-dataframe.mean())/dataframe.std()\n",
    "    \n",
    "    normalized_data[target_col]=dataframe[target_col]\n",
    "    \n",
    "    train_set,test_set=train_test_split(normalized_data,train_size=0.8,random_state=0)\n",
    "    rmse_values_k={}\n",
    "    for k in [1,3,5,7,9]:\n",
    "        '''\n",
    "        Using a for loop to iterate over different values of k\n",
    "        '''\n",
    "        knn=KNeighborsRegressor(n_neighbors=k)\n",
    "        knn.fit(train_set[[training_col]],train_set[[target_col]])\n",
    "        predictions=knn.predict(test_set[[training_col]])\n",
    "        mse=mean_squared_error(test_set[[target_col]],predictions)\n",
    "        rmse=mse**(1/2)\n",
    "        rmse_values_k[k]=rmse\n",
    "    return rmse_values_k\n",
    "        "
   ]
  },
  {
   "cell_type": "code",
   "execution_count": 22,
   "metadata": {
    "scrolled": true
   },
   "outputs": [
    {
     "data": {
      "text/plain": [
       "{1: 7153.700487626433,\n",
       " 3: 5568.589256012007,\n",
       " 5: 6263.973987531746,\n",
       " 7: 6908.885394078217,\n",
       " 9: 6866.277414221188}"
      ]
     },
     "execution_count": 22,
     "metadata": {},
     "output_type": "execute_result"
    }
   ],
   "source": [
    "# Test the function\n",
    "knn_uni_model_updated('normalized-losses','price',cars_numeric)"
   ]
  },
  {
   "cell_type": "code",
   "execution_count": 23,
   "metadata": {},
   "outputs": [
    {
     "data": {
      "text/plain": [
       "{'normalized-losses': {1: 7153.700487626433,\n",
       "  3: 5568.589256012007,\n",
       "  5: 6263.973987531746,\n",
       "  7: 6908.885394078217,\n",
       "  9: 6866.277414221188},\n",
       " 'wheel-base': {1: 2094.493433646843,\n",
       "  3: 4362.1051964839535,\n",
       "  5: 4122.3541312922225,\n",
       "  7: 3441.69885214848,\n",
       "  9: 3272.2158215156833},\n",
       " 'length': {1: 3500.2845964878707,\n",
       "  3: 3528.4102942534923,\n",
       "  5: 3727.566381814459,\n",
       "  7: 3394.919875776863,\n",
       "  9: 3728.0528268478342},\n",
       " 'width': {1: 3978.2685360432615,\n",
       "  3: 3316.039953807747,\n",
       "  5: 3028.8089990761414,\n",
       "  7: 2977.43772671578,\n",
       "  9: 2735.3318213624852},\n",
       " 'height': {1: 8293.438773361748,\n",
       "  3: 8178.82082101435,\n",
       "  5: 7395.4336442999465,\n",
       "  7: 7053.7599815341855,\n",
       "  9: 7164.769271538858},\n",
       " 'curb-weight': {1: 3804.6612529895483,\n",
       "  3: 3052.0738306202516,\n",
       "  5: 3020.4802366511194,\n",
       "  7: 2688.110181111274,\n",
       "  9: 3009.781774312},\n",
       " 'engine-size': {1: 3211.817426487649,\n",
       "  3: 2081.458680707907,\n",
       "  5: 2505.744961353041,\n",
       "  7: 2696.071837796451,\n",
       "  9: 2742.3833413883926},\n",
       " 'bore': {1: 5688.422938780899,\n",
       "  3: 5159.018664275947,\n",
       "  5: 5571.000296562088,\n",
       "  7: 5531.957532869678,\n",
       "  9: 5779.625816266357},\n",
       " 'stroke': {1: 8345.002120012481,\n",
       "  3: 6660.125769454904,\n",
       "  5: 6253.829600824909,\n",
       "  7: 6198.32276294584,\n",
       "  9: 6301.009384876434},\n",
       " 'compression-rate': {1: 5661.878329773066,\n",
       "  3: 5232.486459187835,\n",
       "  5: 5078.108434666472,\n",
       "  7: 5092.99313201762,\n",
       "  9: 5084.880331891064},\n",
       " 'horsepower': {1: 4792.526412892184,\n",
       "  3: 2892.0661236692386,\n",
       "  5: 2254.539883981106,\n",
       "  7: 2836.9220193300716,\n",
       "  9: 3277.2496757982576},\n",
       " 'peak-rpm': {1: 8578.245676022874,\n",
       "  3: 6455.129618563065,\n",
       "  5: 6945.102311166057,\n",
       "  7: 6763.60774688058,\n",
       "  9: 7052.484386997688},\n",
       " 'city-mpg': {1: 3611.666747349519,\n",
       "  3: 2850.009625396102,\n",
       "  5: 2978.562714406706,\n",
       "  7: 3253.1645954223923,\n",
       "  9: 3462.1226203133865},\n",
       " 'highway-mpg': {1: 5456.389200650405,\n",
       "  3: 3336.5589106083703,\n",
       "  5: 3301.048081738392,\n",
       "  7: 3376.052113878191,\n",
       "  9: 3605.6676905804193}}"
      ]
     },
     "execution_count": 23,
     "metadata": {},
     "output_type": "execute_result"
    }
   ],
   "source": [
    "rmse_values_updated={}\n",
    "input_var=cars_numeric.columns\n",
    "\n",
    "for var in input_var:\n",
    "    if var!='price':\n",
    "        '''\n",
    "        Exclude price since that is our target variable\n",
    "        '''\n",
    "        rmse = knn_uni_model_updated(var,'price',cars_numeric)\n",
    "        rmse_values_updated[var]=rmse\n",
    "        \n",
    "rmse_values_updated"
   ]
  },
  {
   "cell_type": "code",
   "execution_count": 47,
   "metadata": {},
   "outputs": [
    {
     "data": {
      "image/png": "[encoded data removed]",
      "text/plain": [
       "<Figure size 864x1440 with 1 Axes>"
      ]
     },
     "metadata": {
      "needs_background": "light"
     },
     "output_type": "display_data"
    }
   ],
   "source": [
    "# Visualize the results using scatter plot\n",
    "import matplotlib.pyplot as plt\n",
    "%matplotlib inline\n",
    "\n",
    "plt.figure(figsize=(12,20))\n",
    "\n",
    "for k,v in rmse_values_updated.items():\n",
    "    '''\n",
    "    Iterate over key value pairs in the dictionary\n",
    "    '''\n",
    "    x=list(v.keys())\n",
    "    y=list(v.values())\n",
    "    plt.plot(x,y,label=k)\n",
    "    plt.xlabel(\"k values\")\n",
    "    plt.ylabel(\"RMSE values\")\n",
    "    plt.legend(loc='upper right')\n",
    "    \n",
    "    "
   ]
  },
  {
   "cell_type": "markdown",
   "metadata": {},
   "source": [
    "# Multivariate Model\n",
    "\n",
    "In the above steps we have trained a knn model which will take one input variable at a time. However it will not be a good idea to make predcitions using only one variable at a time. Hence we will be making a multivariate model which will take in more than one input variable at a time.\n",
    "\n",
    "To do so we can take help from the Univariate model. What we can do is we can first build the model on the best two features i.e. the top two features which will give the lowest RMSE values then move to best three,best four and so on and calculate the RMSE values for each model and select the best one to work with."
   ]
  },
  {
   "cell_type": "code",
   "execution_count": 25,
   "metadata": {},
   "outputs": [],
   "source": [
    "# Funcion for knn multivariate model\n",
    "\n",
    "\n",
    "def knn_multi_model(training_cols_list,target_col,dataframe):\n",
    "    '''\n",
    "    Pass a list of columns as training_cols_list\n",
    "    '''\n",
    "    normalized_data=(dataframe-dataframe.mean())/dataframe.std()\n",
    "    normalized_data[target_col]=dataframe[target_col]\n",
    "    train_set,test_set=train_test_split(normalized_data,train_size=0.8,random_state=0)\n",
    "    knn=KNeighborsRegressor()\n",
    "    knn.fit(train_set[training_cols_list],train_set[[target_col]])\n",
    "    predictions=knn.predict(test_set[training_cols_list])\n",
    "    mse=mean_squared_error(test_set[[target_col]],predictions)\n",
    "    rmse=mse**(1/2)\n",
    "    return rmse"
   ]
  },
  {
   "cell_type": "code",
   "execution_count": 26,
   "metadata": {
    "scrolled": true
   },
   "outputs": [
    {
     "data": {
      "text/plain": [
       "['horsepower',\n",
       " 'engine-size',\n",
       " 'city-mpg',\n",
       " 'curb-weight',\n",
       " 'width',\n",
       " 'highway-mpg',\n",
       " 'length',\n",
       " 'wheel-base',\n",
       " 'compression-rate',\n",
       " 'bore',\n",
       " 'stroke',\n",
       " 'normalized-losses',\n",
       " 'peak-rpm',\n",
       " 'height']"
      ]
     },
     "execution_count": 26,
     "metadata": {},
     "output_type": "execute_result"
    }
   ],
   "source": [
    "'''\n",
    "Use the older results of knn univariate model with default parameters and then\n",
    "sort then on the rmse values and get the order of the variables accordingly\n",
    "'''\n",
    "\n",
    "\n",
    "a=sorted(rmse_values.items(),key=lambda x:x[1])\n",
    "\n",
    "sorted_var_list=[k for k,v in sorted(rmse_values.items(),key=lambda x:x[1])]\n",
    "\n",
    "sorted_var_list\n",
    "   "
   ]
  },
  {
   "cell_type": "code",
   "execution_count": 27,
   "metadata": {},
   "outputs": [
    {
     "data": {
      "text/plain": [
       "[(3, 1845.9687986813667),\n",
       " (5, 1851.5848981172583),\n",
       " (2, 1902.7878126748928),\n",
       " (4, 1926.328440340355),\n",
       " (12, 2039.380094868574),\n",
       " (8, 2080.345915516246),\n",
       " (7, 2136.055549311298),\n",
       " (6, 2158.166860068386),\n",
       " (14, 2159.3233612698314),\n",
       " (11, 2182.6152720314976),\n",
       " (13, 2210.839692448353),\n",
       " (9, 2339.6516129132756),\n",
       " (10, 2380.9402232586117)]"
      ]
     },
     "execution_count": 27,
     "metadata": {},
     "output_type": "execute_result"
    }
   ],
   "source": [
    "# Trying out multiple models with best 2,best 3 features and so on\n",
    "\n",
    "knn_multi_rmse={}\n",
    "for k in range(1,len(sorted_var_list)):\n",
    "    '''\n",
    "    Starting with 1 because 0 will consider only one variable and \n",
    "    we want a model which starts with one or more variables\n",
    "    '''\n",
    "    cols=sorted_var_list[0:k+1]\n",
    "    '''\n",
    "    k+1 because the last index is omitted in python\n",
    "    '''\n",
    "    rmse=knn_multi_model(cols,'price',cars_numeric)\n",
    "    knn_multi_rmse[k+1]=rmse\n",
    "\n",
    "\n",
    "sorted(knn_multi_rmse.items(),key=lambda x:x[1])\n",
    "\n",
    "\n"
   ]
  },
  {
   "cell_type": "markdown",
   "metadata": {},
   "source": [
    "From the above we can see that the model with top three best features as per univariate model gives the lowest RMSE. The top three best features as per univariate model were **horsepower,engine-size and city-mpg**.\n",
    "\n",
    "But we have trained the above model on a default parameters of KNeighbors class. Let's try to build multivariate model based on different values of k."
   ]
  },
  {
   "cell_type": "code",
   "execution_count": 28,
   "metadata": {},
   "outputs": [],
   "source": [
    "# Funcion for knn multivariate model with different values of k\n",
    "\n",
    "\n",
    "def knn_multi_model_updated(training_cols_list,target_col,dataframe):\n",
    "    normalized_data=(dataframe-dataframe.mean())/dataframe.std()\n",
    "    normalized_data[target_col]=dataframe[target_col]\n",
    "    train_set,test_set=train_test_split(normalized_data,train_size=0.8,random_state=0)\n",
    "    rmse_val_k={}\n",
    "    for n in range(1,10):\n",
    "        '''\n",
    "        For loop to iterate over different values of k\n",
    "        '''\n",
    "        knn=KNeighborsRegressor(n_neighbors=n)\n",
    "        knn.fit(train_set[training_cols_list],train_set[[target_col]])\n",
    "        predictions=knn.predict(test_set[training_cols_list])\n",
    "        mse=mean_squared_error(test_set[[target_col]],predictions)\n",
    "        rmse=mse**(1/2)\n",
    "        rmse_val_k[n]=rmse\n",
    "    return rmse_val_k\n",
    "        \n",
    "    "
   ]
  },
  {
   "cell_type": "code",
   "execution_count": 29,
   "metadata": {
    "scrolled": true
   },
   "outputs": [
    {
     "data": {
      "text/plain": [
       "{2: {1: 2090.6844914114145,\n",
       "  2: 1723.6746232194662,\n",
       "  3: 1544.7240628596076,\n",
       "  4: 1784.012754442305,\n",
       "  5: 1902.7878126748928,\n",
       "  6: 2139.5324512296306,\n",
       "  7: 2311.353921588773,\n",
       "  8: 2409.480407751127,\n",
       "  9: 2609.162063447597},\n",
       " 3: {1: 1815.2134582573096,\n",
       "  2: 2047.183376555112,\n",
       "  3: 1828.3492995450083,\n",
       "  4: 1710.5206200647413,\n",
       "  5: 1845.9687986813667,\n",
       "  6: 1978.9995042766811,\n",
       "  7: 2117.5082020865884,\n",
       "  8: 2307.966298344686,\n",
       "  9: 2437.3154454405885},\n",
       " 4: {1: 1897.3703263856316,\n",
       "  2: 1539.5036230709943,\n",
       "  3: 1497.576900472104,\n",
       "  4: 1817.3033047023414,\n",
       "  5: 1926.328440340355,\n",
       "  6: 2023.0899896701133,\n",
       "  7: 2027.0963677062368,\n",
       "  8: 2037.1272496803495,\n",
       "  9: 2087.3863027772313},\n",
       " 5: {1: 1685.156403473181,\n",
       "  2: 1276.8562361348322,\n",
       "  3: 1401.1155702396898,\n",
       "  4: 1653.9525871853314,\n",
       "  5: 1851.5848981172583,\n",
       "  6: 1960.482555683575,\n",
       "  7: 2030.6585812280646,\n",
       "  8: 2153.6305284797854,\n",
       "  9: 2118.445624522621},\n",
       " 6: {1: 1677.7782322090006,\n",
       "  2: 1255.4001896678003,\n",
       "  3: 1734.468562387412,\n",
       "  4: 1836.2811202711482,\n",
       "  5: 2158.166860068386,\n",
       "  6: 2011.161466173202,\n",
       "  7: 2079.964773677589,\n",
       "  8: 2158.002274902549,\n",
       "  9: 2161.914331893496},\n",
       " 7: {1: 1714.6499460531295,\n",
       "  2: 1305.1501540740387,\n",
       "  3: 1571.0467378674962,\n",
       "  4: 1852.9600587348955,\n",
       "  5: 2136.055549311298,\n",
       "  6: 2216.7903650278736,\n",
       "  7: 2138.5308027649903,\n",
       "  8: 2076.382688206491,\n",
       "  9: 2068.5614487312464},\n",
       " 8: {1: 1455.059070635437,\n",
       "  2: 1458.4334901504105,\n",
       "  3: 1516.0063963831565,\n",
       "  4: 1842.2504045283245,\n",
       "  5: 2080.345915516246,\n",
       "  6: 1960.0706443221932,\n",
       "  7: 1917.2948927800412,\n",
       "  8: 1993.3485302326758,\n",
       "  9: 1991.2969156754605},\n",
       " 9: {1: 1773.6796032361362,\n",
       "  2: 1393.662375076951,\n",
       "  3: 1849.3749710791064,\n",
       "  4: 2235.7021892117373,\n",
       "  5: 2339.6516129132756,\n",
       "  6: 2097.0960453248936,\n",
       "  7: 2260.2359454869584,\n",
       "  8: 2399.835468932133,\n",
       "  9: 2487.7133402511818},\n",
       " 10: {1: 2826.936799482654,\n",
       "  2: 2150.932190949799,\n",
       "  3: 1899.5043183548482,\n",
       "  4: 2244.6462844527846,\n",
       "  5: 2380.9402232586117,\n",
       "  6: 2311.7290870148163,\n",
       "  7: 2355.711568829971,\n",
       "  8: 2510.7986565493393,\n",
       "  9: 2652.3976180781556},\n",
       " 11: {1: 2789.920521165984,\n",
       "  2: 2005.7708014658156,\n",
       "  3: 1894.9896789610614,\n",
       "  4: 2037.5948872824272,\n",
       "  5: 2182.6152720314976,\n",
       "  6: 2235.623809184989,\n",
       "  7: 2586.3864078301062,\n",
       "  8: 2618.222449491646,\n",
       "  9: 2590.4099091739695},\n",
       " 12: {1: 3334.8404992516084,\n",
       "  2: 2415.212678762234,\n",
       "  3: 1874.0038007411586,\n",
       "  4: 2043.5597715907656,\n",
       "  5: 2039.380094868574,\n",
       "  6: 2004.6707493504468,\n",
       "  7: 2181.1033259054398,\n",
       "  8: 2373.7210939062848,\n",
       "  9: 2517.91649926476},\n",
       " 13: {1: 1948.343379561079,\n",
       "  2: 2141.7787677685346,\n",
       "  3: 2182.1221283612986,\n",
       "  4: 2251.69548226926,\n",
       "  5: 2210.839692448353,\n",
       "  6: 2341.0865795031377,\n",
       "  7: 2438.445436123246,\n",
       "  8: 2611.907384311272,\n",
       "  9: 2616.6749623252704},\n",
       " 14: {1: 2001.1988718464456,\n",
       "  2: 2043.2582706493379,\n",
       "  3: 1813.626106064785,\n",
       "  4: 2135.182248421516,\n",
       "  5: 2159.3233612698314,\n",
       "  6: 2365.907748309975,\n",
       "  7: 2517.204064680568,\n",
       "  8: 2721.4529147493104,\n",
       "  9: 2807.9821799468136}}"
      ]
     },
     "execution_count": 29,
     "metadata": {},
     "output_type": "execute_result"
    }
   ],
   "source": [
    "# Trying out multiple models with best 2,best 3 features and so on\n",
    "\n",
    "knn_multi_rmse_k={}\n",
    "for k in range(1,len(sorted_var_list)):\n",
    "    '''\n",
    "    Starting with 1 because 0 will consider only one variable and \n",
    "    we want a model which starts with one or more variables\n",
    "    '''\n",
    "    cols=sorted_var_list[0:k+1]\n",
    "    '''\n",
    "    k+1 because the last index is omitted in python\n",
    "    '''\n",
    "    rmse_k=knn_multi_model_updated(cols,'price',cars_numeric)\n",
    "    knn_multi_rmse_k[k+1]=rmse_k\n",
    "\n",
    "\n",
    "knn_multi_rmse_k\n"
   ]
  },
  {
   "cell_type": "code",
   "execution_count": 30,
   "metadata": {
    "scrolled": true
   },
   "outputs": [
    {
     "data": {
      "image/png": "[encoded data removed]",
      "text/plain": [
       "<Figure size 432x288 with 1 Axes>"
      ]
     },
     "metadata": {
      "needs_background": "light"
     },
     "output_type": "display_data"
    }
   ],
   "source": [
    "# Visualize the results using scatter plot\n",
    "\n",
    "for k,v in knn_multi_rmse_k.items():\n",
    "    '''\n",
    "    Iterate over key value pairs in the dictionary\n",
    "    '''\n",
    "    x=list(v.keys())\n",
    "    y=list(v.values())\n",
    "    plt.plot(x,y)\n",
    "    plt.xlabel(\"k values\")\n",
    "    plt.ylabel(\"RMSE values\")\n",
    "    "
   ]
  },
  {
   "cell_type": "markdown",
   "metadata": {},
   "source": [
    "# Conclusion\n",
    "\n",
    "We have built up all possible models using both univariate and multivariate models and also plotted the RMSE values against different values of k. We should mostly prefer a multivariate model since it is not a good method to determine the price using the impact of only one single variable. Mostly we will be selecting the model with the lowest RMSE values. However sometimes we might need to make a decision based on other factors like data availability for the variables in the future and domain knowledge. In some cases a multiavariate model with certain variables might have the lowest RMSE however the variables do not really make business conetxt and also it would become difficult to capture those in the future.\n",
    "\n",
    "For our case in the multivariate models we tried two cases:\n",
    "1. With the default KNeighnors class\n",
    "2. By training the models with different parameters of k\n",
    "\n",
    "From the first case we got to know that the model with variables **horsepower,engine-size and city-mpg** gives us the lowest RMSE with default k value of 5.\n",
    "\n",
    "From the second case we get to know that for this particular set of variables when we hypertune the k parameter the RMSE turns out to be the lowest at k=4.\n",
    "\n",
    "Hence in our scenario the best model to predict car price using KNN algorithm will be using the variables **horsepower,engine-size and city-mpg** with the **k value of 4**."
   ]
  }
 ],
 "metadata": {
  "kernelspec": {
   "display_name": "Python 3",
   "language": "python",
   "name": "python3"
  },
  "language_info": {
   "codemirror_mode": {
    "name": "ipython",
    "version": 3
   },
   "file_extension": ".py",
   "mimetype": "text/x-python",
   "name": "python",
   "nbconvert_exporter": "python",
   "pygments_lexer": "ipython3",
   "version": "3.7.10"
  }
 },
 "nbformat": 4,
 "nbformat_minor": 2
}
