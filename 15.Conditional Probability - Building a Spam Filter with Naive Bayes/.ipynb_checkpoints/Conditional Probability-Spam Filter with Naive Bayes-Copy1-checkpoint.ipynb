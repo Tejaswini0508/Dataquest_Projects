{
 "cells": [
  {
   "cell_type": "markdown",
   "metadata": {},
   "source": [
    "# Building Spam Filter with Naive Bayes\n",
    "\n",
    "In this project we will be building a spam filter for SMS messages using Naive Bayes algorithm.\n",
    "\n",
    "To classify messages as spam or non spam:\n",
    "\n",
    "1. Learn how humans classify messages.\n",
    "2. Use that human knowledge to estimate probabilities for new messages — probabilities for spam and non-spam.\n",
    "3. Classifiy a new message based on these probability values — if the probability for spam is greater, then it classifies the message as spam. Otherwise, it classifies it as non-spam (if the two probability values are equal,then we may need a human to classify the message)."
   ]
  },
  {
   "cell_type": "markdown",
   "metadata": {},
   "source": [
    "# How Humans Classify Messages\n",
    "\n",
    "As stated above our first task is to teach the computer how to classify messages. \n",
    "\n",
    "To do that we will use the multinomial Naive Bayes algorithm with a dataset of 5,572 SMS messages that are already classified by humans.\n",
    "\n",
    "The dataset was put together by Tiago A. Almeida and José María Gómez Hidalgo, and it can be downloaded from the [The UCI Machine Learning Repository](https://archive.ics.uci.edu/ml/datasets/sms+spam+collection).The data collection process is described in more details [on this page](http://www.dt.fee.unicamp.br/~tiago/smsspamcollection/#composition), where you can also find some of the authors' papers."
   ]
  },
  {
   "cell_type": "code",
   "execution_count": 1,
   "metadata": {},
   "outputs": [],
   "source": [
    "# Import the dataset\n",
    "import pandas as pd\n",
    "pd.set_option('display.max_columns', None)\n",
    "pd.set_option('display.max_rows', None)\n",
    "\n",
    "data=pd.read_csv(\"SMSSpamCollection\",sep='\\t',header=None,\n",
    "                 names=['Label','SMS'])"
   ]
  },
  {
   "cell_type": "code",
   "execution_count": 2,
   "metadata": {},
   "outputs": [
    {
     "data": {
      "text/plain": [
       "(5572, 2)"
      ]
     },
     "execution_count": 2,
     "metadata": {},
     "output_type": "execute_result"
    }
   ],
   "source": [
    "data.shape"
   ]
  },
  {
   "cell_type": "code",
   "execution_count": 3,
   "metadata": {},
   "outputs": [
    {
     "data": {
      "text/html": [
       "<div>\n",
       "<style scoped>\n",
       "    .dataframe tbody tr th:only-of-type {\n",
       "        vertical-align: middle;\n",
       "    }\n",
       "\n",
       "    .dataframe tbody tr th {\n",
       "        vertical-align: top;\n",
       "    }\n",
       "\n",
       "    .dataframe thead th {\n",
       "        text-align: right;\n",
       "    }\n",
       "</style>\n",
       "<table border=\"1\" class=\"dataframe\">\n",
       "  <thead>\n",
       "    <tr style=\"text-align: right;\">\n",
       "      <th></th>\n",
       "      <th>Label</th>\n",
       "      <th>SMS</th>\n",
       "    </tr>\n",
       "  </thead>\n",
       "  <tbody>\n",
       "    <tr>\n",
       "      <th>0</th>\n",
       "      <td>ham</td>\n",
       "      <td>Go until jurong point, crazy.. Available only ...</td>\n",
       "    </tr>\n",
       "    <tr>\n",
       "      <th>1</th>\n",
       "      <td>ham</td>\n",
       "      <td>Ok lar... Joking wif u oni...</td>\n",
       "    </tr>\n",
       "    <tr>\n",
       "      <th>2</th>\n",
       "      <td>spam</td>\n",
       "      <td>Free entry in 2 a wkly comp to win FA Cup fina...</td>\n",
       "    </tr>\n",
       "    <tr>\n",
       "      <th>3</th>\n",
       "      <td>ham</td>\n",
       "      <td>U dun say so early hor... U c already then say...</td>\n",
       "    </tr>\n",
       "    <tr>\n",
       "      <th>4</th>\n",
       "      <td>ham</td>\n",
       "      <td>Nah I don't think he goes to usf, he lives aro...</td>\n",
       "    </tr>\n",
       "  </tbody>\n",
       "</table>\n",
       "</div>"
      ],
      "text/plain": [
       "  Label                                                SMS\n",
       "0   ham  Go until jurong point, crazy.. Available only ...\n",
       "1   ham                      Ok lar... Joking wif u oni...\n",
       "2  spam  Free entry in 2 a wkly comp to win FA Cup fina...\n",
       "3   ham  U dun say so early hor... U c already then say...\n",
       "4   ham  Nah I don't think he goes to usf, he lives aro..."
      ]
     },
     "execution_count": 3,
     "metadata": {},
     "output_type": "execute_result"
    }
   ],
   "source": [
    "data.head()"
   ]
  },
  {
   "cell_type": "code",
   "execution_count": 4,
   "metadata": {},
   "outputs": [
    {
     "data": {
      "text/plain": [
       "ham     0.865937\n",
       "spam    0.134063\n",
       "Name: Label, dtype: float64"
      ]
     },
     "execution_count": 4,
     "metadata": {},
     "output_type": "execute_result"
    }
   ],
   "source": [
    "# Percentage of spam and non spam messages\n",
    "#ham means non spam\n",
    "data[\"Label\"].value_counts(normalize=True)"
   ]
  },
  {
   "cell_type": "markdown",
   "metadata": {},
   "source": [
    "We have approximatelt 87% non spam and 13% spam messages in our dataset."
   ]
  },
  {
   "cell_type": "markdown",
   "metadata": {},
   "source": [
    "# Splitting into training and testing set\n",
    "\n",
    "Now that we have explored the dataset we can start buulding our spam filter.\n",
    "However we should also be able to test our new filter to see how it works.\n",
    "For this purpose we will first split the data into training and testing sets.\n",
    "The training set will have 80% of the data while the testing set will have 20% of the data.\n",
    "\n",
    "The model will be build on the training  dataset.We will treat the data in testing set as new messages and test our model which we build on training set. If we are able to classify more than 80% of our messages correctly in the test set then we can say our model is working well."
   ]
  },
  {
   "cell_type": "code",
   "execution_count": 5,
   "metadata": {},
   "outputs": [],
   "source": [
    "# Randomize the entire dataset\n",
    "data_random=data.sample(frac=1,random_state=1)\n",
    "\n",
    "#Split the above randomized data into training and testing set\n",
    "train_set=data_random.sample(frac=0.8,random_state=1)\n",
    "\n",
    "# Drop whatever is classified as train set from the test set\n",
    "test_set=data_random.drop(train_set.index)"
   ]
  },
  {
   "cell_type": "code",
   "execution_count": 6,
   "metadata": {},
   "outputs": [],
   "source": [
    "# Reset the indexes for both train and test set\n",
    "train_set.reset_index(inplace=True,drop=True)\n",
    "\n",
    "test_set.reset_index(inplace=True,drop=True)\n"
   ]
  },
  {
   "cell_type": "code",
   "execution_count": 7,
   "metadata": {},
   "outputs": [
    {
     "data": {
      "text/plain": [
       "ham     0.866756\n",
       "spam    0.133244\n",
       "Name: Label, dtype: float64"
      ]
     },
     "execution_count": 7,
     "metadata": {},
     "output_type": "execute_result"
    }
   ],
   "source": [
    "# Compute the percentage of spam and non spam in both train and test sets\n",
    "\n",
    "train_set[\"Label\"].value_counts(normalize=True)"
   ]
  },
  {
   "cell_type": "code",
   "execution_count": 8,
   "metadata": {},
   "outputs": [
    {
     "data": {
      "text/plain": [
       "ham     0.862657\n",
       "spam    0.137343\n",
       "Name: Label, dtype: float64"
      ]
     },
     "execution_count": 8,
     "metadata": {},
     "output_type": "execute_result"
    }
   ],
   "source": [
    "test_set[\"Label\"].value_counts(normalize=True)"
   ]
  },
  {
   "cell_type": "markdown",
   "metadata": {},
   "source": [
    "As we can see the original ratio of 87% non spam to 13% spam of original dataset have been retained in both train and sets.Now we can start building the model on training set."
   ]
  },
  {
   "cell_type": "markdown",
   "metadata": {},
   "source": [
    "# Naive Bayes Overview\n",
    "\n",
    "The Naive Bayes algorithm(Multinomial Naive Bayes) works in the following way:\n",
    "\n",
    "P(wi|Spam)=(Nwi|Spam+α)/(NSpam+α⋅NVocabulary)\n",
    "\n",
    "P(wi|Ham)=(Nwi|Ham+α)/(NHam+α⋅NVocabulary)\n",
    "\n",
    "The Naive Bayes equations are:\n",
    "\n",
    "P(Spam|w1,w2,...,wn)∝P(Spam) * Π(wi|Spam) for i=1,2,...n\n",
    "\n",
    "P(Ham|w1,w2,...,wn)∝P(Ham) * Π(wi|Ham)\n",
    "\n",
    "* P(wi|Spam)=Probability that given the message is spam the word wi is present in it.\n",
    "* P(wi|Ham)=Probability that given the message is ham the word wi is present in it.\n",
    "* Π=Product\n",
    "* Nwi|Spam=the number of times the word wi occurs in spam messages\n",
    "* Nwi|SpamC=the number of times the word wi occurs in non-spam messages\n",
    "* NSpam=total number of words in spam messages\n",
    "* NSpamC=total number of words in non-spam messages\n",
    "* NVocabulary=total number of words in the vocabulary\n",
    "* α=1    (α is a smoothing parameter)"
   ]
  },
  {
   "cell_type": "markdown",
   "metadata": {},
   "source": [
    "\n",
    "# Data Cleaning and Preparation\n",
    "In order to calculate the above probabilities we will need to arrange the dataset in a specific format.\n",
    "\n",
    "For example if the data is as below:\n",
    "\n",
    "| Label \t| SMS                                    \t|\n",
    "|-------\t|----------------------------------------\t|\n",
    "| spam  \t| SECRET PRIZE!!CLAIM SECRET PRIZE NOW!! \t|\n",
    "| ham   \t| Coming to my secret part?              \t|\n",
    "| spam  \t| Winner!Claim secret prize now!         \t|\n",
    "\n",
    "\n",
    "It should be brought in the below format\n",
    "\n",
    "| Label \t| secret \t| prize \t| claim \t| now  \t| coming \t| to \t| my  \t| party \t| winner \t|\n",
    "|-------\t|--------\t|-------\t|-------\t|------\t|--------\t|----\t|-----\t|-------\t|--------\t|\n",
    "| spam  \t| 2      \t| 2     \t| 1     \t| 1    \t| 0      \t| 0  \t| 0   \t| 0     \t| 0      \t|\n",
    "| ham   \t| 1      \t| 0     \t| 0     \t| 0    \t| 1      \t| 1  \t| 1   \t| 1     \t| 0      \t|\n",
    "| spam  \t| 1      \t| 1     \t| 1     \t| 1    \t| 0      \t| 0  \t| 0   \t| 0     \t| 1      \t|\n",
    "\n",
    "In the transformation above:\n",
    "\n",
    "* The SMS column doesn't exist anymore.\n",
    " Instead, the SMS column is replaced by a series of new columns, where each column represents a unique word from the vocabulary.\n",
    "* Each row describes a single message. For instance, the first row corresponds to the message \"SECRET PRIZE! CLAIM SECRET PRIZE NOW!!\", and it has the values spam, 2, 2, 1, 1, 0, 0, 0, 0, 0. These values tell us that:\n",
    "  * The message is spam.\n",
    "  * The word \"secret\" occurs two times inside the message.\n",
    "  * The word \"prize\" occurs two times inside the message.\n",
    "  * The word \"claim\" occurs one time inside the message.\n",
    "  * The word \"now\" occurs one time inside the message.\n",
    "  * The words \"coming\", \"to\", \"my\", \"party\", and \"winner\" occur zero times inside the message.\n",
    "* All words in the vocabulary are in lower case, so \"SECRET\" and \"secret\" come to be considered to be the same word.\n",
    "* Punctuation is not taken into account anymore (for instance, we can't look at the table and conclude that the first message initially had three exclamation marks)."
   ]
  },
  {
   "cell_type": "code",
   "execution_count": 9,
   "metadata": {},
   "outputs": [
    {
     "name": "stderr",
     "output_type": "stream",
     "text": [
      "C:\\ProgramData\\Anaconda3\\lib\\site-packages\\ipykernel_launcher.py:4: FutureWarning: The default value of regex will change from True to False in a future version.\n",
      "  after removing the cwd from sys.path.\n"
     ]
    }
   ],
   "source": [
    "# Remove the punctuations and convert the case to lower\n",
    "\n",
    "\n",
    "train_set[\"clean_SMS\"]=train_set[\"SMS\"].str.replace(\"\\W\",\" \")\n",
    "'''\n",
    "\\W is a regex pattern which will replace any character which is not\n",
    "in a-z,A-Z or 0-9\n",
    "'''\n",
    "train_set[\"clean_SMS\"]=train_set[\"clean_SMS\"].str.lower()\n"
   ]
  },
  {
   "cell_type": "markdown",
   "metadata": {},
   "source": [
    "Now that we are done with cleaning the data we will need to transform the data as we stated above. The individual columns are nothing but unique words from all the words in SMS column and the value is the frequency of that particular word.We will refer to this unique set of words as **vocabulary**"
   ]
  },
  {
   "cell_type": "code",
   "execution_count": 10,
   "metadata": {},
   "outputs": [],
   "source": [
    "# Create the vocabulary\n",
    "\n",
    "# Transform the sms column into a list of words\n",
    "train_set['clean_sms_list']=train_set[\"clean_SMS\"].str.split()\n",
    "\n",
    "vocabulary=[]\n",
    "\n",
    "for i in train_set[\"clean_sms_list\"]:\n",
    "    for word in i:\n",
    "        if word not in vocabulary:\n",
    "            vocabulary.append(word)"
   ]
  },
  {
   "cell_type": "code",
   "execution_count": 11,
   "metadata": {},
   "outputs": [
    {
     "data": {
      "text/plain": [
       "7712"
      ]
     },
     "execution_count": 11,
     "metadata": {},
     "output_type": "execute_result"
    }
   ],
   "source": [
    "len(vocabulary)"
   ]
  },
  {
   "cell_type": "markdown",
   "metadata": {},
   "source": [
    "Looks like there are 7712 unique words in the vocabulary of train set.\n",
    "\n",
    "Now that we have the vocabulary we will transform the dataset as desired.\n",
    "One approach is we create d dictionary with keys as the unique words in SMS with their respective values as the number of times the respective word appears in SMS.Eventually we can convert it to a dataframe so that we get the data in a desired format."
   ]
  }
 ],
 "metadata": {
  "kernelspec": {
   "display_name": "Python 3",
   "language": "python",
   "name": "python3"
  },
  "language_info": {
   "codemirror_mode": {
    "name": "ipython",
    "version": 3
   },
   "file_extension": ".py",
   "mimetype": "text/x-python",
   "name": "python",
   "nbconvert_exporter": "python",
   "pygments_lexer": "ipython3",
   "version": "3.7.10"
  }
 },
 "nbformat": 4,
 "nbformat_minor": 4
}
