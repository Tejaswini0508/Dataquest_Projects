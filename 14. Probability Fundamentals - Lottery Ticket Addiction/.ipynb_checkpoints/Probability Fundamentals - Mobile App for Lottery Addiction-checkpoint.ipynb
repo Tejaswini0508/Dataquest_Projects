{
 "cells": [
  {
   "cell_type": "markdown",
   "metadata": {},
   "source": [
    "# Mobile App for Lottery Addiction\n",
    "\n",
    "Many people start playing the lottery for fun, but for some this activity turns into a habit which eventually escalates into addiction. Like other compulsive gamblers, lottery addicts soon begin spending from their savings and loans, they start to accumulate debts, and eventually engage in desperate behaviors like theft.\n",
    "\n",
    "A medical institute that aims to prevent and treat gambling addictions wants to build a dedicated mobile app to help lottery addicts better estimate their chances of winning. The institute has a team of engineers that will build the app, but they need to create a logical core of the app and calculate probabilities.\n",
    "\n",
    "For the first version of the app, they want us to focus on the [Lotto 6/49](6/49) lottery and build functions that enable users to answer questions like:\n",
    "\n",
    "* What is the probability of winning the big prize with a single ticket?\n",
    "* What is the probability of winning the big prize if we play 40 different tickets (or any other number)?\n",
    "* What is the probability of having at least five (or four, or three, or two) winning numbers on a single ticket?\n",
    "\n",
    "The institute also wants to consider [historical data](https://www.kaggle.com/datascienceai/lottery-dataset) coming from the national 6/49 lottery game in Canada.\n"
   ]
  },
  {
   "cell_type": "markdown",
   "metadata": {},
   "source": [
    "** Creating functions to calculate factorials and combination **\n",
    "\n",
    "Above we saw our goal is to write code that can enable users to answer probability questions about playing the lottery. Throughout the project, we'll need to calculate repeatedly probabilities and combinations. As consequence, we'll start by writing two functions that we'll use often:\n",
    "\n",
    "1. A function that calculates factorials\n",
    "2. A function that calculates combinations\n",
    "\n",
    "To calculate factorials, below is the formula:\n",
    "n!=n * (n-1) * (n-2) * ........ *2*1\n",
    "\n",
    "To calculate combinations we use the below formula:\n",
    "\n",
    "nCk=n!/( k! * (n-k)!)\n"
   ]
  },
  {
   "cell_type": "code",
   "execution_count": 1,
   "metadata": {
    "collapsed": false
   },
   "outputs": [],
   "source": [
    "# Creating factorial function\n",
    "\n",
    "def factorial(n):\n",
    "    factorial=1\n",
    "    for i in range(1,n+1,1):\n",
    "        factorial*=i\n",
    "    return factorial\n",
    "\n",
    "# Creating combination function\n",
    "\n",
    "def combinations(n,k):\n",
    "    return factorial(n)/(factorial(k)*factorial(n-k))"
   ]
  },
  {
   "cell_type": "markdown",
   "metadata": {},
   "source": [
    "# Probability Function to calculate the probability of the winning big prize\n",
    "\n",
    "In the 6/49 lottery, six numbers are drawn from a set of 49 numbers that range from 1 to 49. A player wins the big prize if the six numbers on their tickets match all the six numbers drawn. If a player has a ticket with the numbers {13, 22, 24, 27, 42, 44}, he only wins the big prize if the numbers drawn are {13, 22, 24, 27, 42, 44}. If only one number differs, he doesn't win.\n",
    "\n",
    "We discussed with the engineering team of the medical institute, and they told us we need to be aware of the following details when we write the function:\n",
    "\n",
    "Inside the app, the user inputs six different numbers from 1 to 49.\n",
    "Under the hood, the six numbers will come as a Python list, which will serve as the single input to our function.\n",
    "The engineering team wants the function to print the probability value in a friendly way — in a way that people without any probability training are able to understand."
   ]
  },
  {
   "cell_type": "code",
   "execution_count": 2,
   "metadata": {
    "collapsed": false
   },
   "outputs": [],
   "source": [
    "# Probability Function\n",
    "def one_ticket_probability(list_nos): #takes input of 6 nos as a list\n",
    "    nos_drawn=len(list_nos)\n",
    "    total_outcomes=combinations(49,6)\n",
    "    \"\"\"\n",
    "    Total number of outcomes will be a combination of k(6) numbers choosen from \n",
    "    a given set of numbers(1 to 49 which is 49).\n",
    "    Here n = 49and k = 6\n",
    "    \"\"\"\n",
    "    prob_winning=1/total_outcomes\n",
    "    \n",
    "    \"\"\"\"\n",
    "    Since all the 6 numbers drawn need to match with the ticket to win the big \n",
    "    prize there is only one favourable outcome to us. Hence the above formula.\n",
    "    \"\"\"\n",
    "    prob_winning_neat=round(prob_winning*100,8)\n",
    "    \n",
    "    \"\"\"\n",
    "    Rounding off the probabilty to 2 places and in percentage so the users can\n",
    "    easily understand\n",
    "    \"\"\"\n",
    "    print(\"The probability of winning the big prize with your ticket{} is {:.7f}%.\"\n",
    "          .format(list_nos,prob_winning_neat))\n"
   ]
  },
  {
   "cell_type": "code",
   "execution_count": 3,
   "metadata": {
    "collapsed": false,
    "scrolled": false
   },
   "outputs": [
    {
     "name": "stdout",
     "output_type": "stream",
     "text": [
      "The probability of winning the big prize with your ticket[13, 22, 24, 27, 42, 44] is 0.0000072%.\n",
      "The probability of winning the big prize with your ticket[10, 8, 9, 26, 49, 35] is 0.0000072%.\n"
     ]
    }
   ],
   "source": [
    "# Test the above function\n",
    "\n",
    "one_ticket_probability([13,22,24,27,42,44])   \n",
    "\n",
    "one_ticket_probability([10,8,9,26,49,35])   "
   ]
  },
  {
   "cell_type": "markdown",
   "metadata": {},
   "source": [
    "Above we wrote a function that can tell users what is the probability of winning with their available ticket. However we also wish to make use of historical data and let the users be able to compare their current ticket against the historical lottery data in Canada and determine if probably they would have ever won by now."
   ]
  },
  {
   "cell_type": "markdown",
   "metadata": {},
   "source": [
    "# Exploring Historical Data\n",
    "\n",
    "Now we will focus on exploring the historical data coming from the Canada 6/49 lottery. The data set can be downloaded from [Kaggle](https://www.kaggle.com/datascienceai/lottery-dataset).\n",
    "\n",
    "The data set contains historical data for 3,665 drawings (each row shows data for a single drawing), dating from 1982 to 2018."
   ]
  },
  {
   "cell_type": "code",
   "execution_count": 4,
   "metadata": {
    "collapsed": true
   },
   "outputs": [],
   "source": [
    "# Load the data\n",
    "\n",
    "import pandas as pd\n",
    "\n",
    "data=pd.read_csv(\"649.csv\")"
   ]
  },
  {
   "cell_type": "code",
   "execution_count": 5,
   "metadata": {
    "collapsed": false
   },
   "outputs": [
    {
     "data": {
      "text/plain": [
       "(3665, 11)"
      ]
     },
     "execution_count": 5,
     "metadata": {},
     "output_type": "execute_result"
    }
   ],
   "source": [
    "data.shape"
   ]
  },
  {
   "cell_type": "code",
   "execution_count": 6,
   "metadata": {
    "collapsed": false
   },
   "outputs": [
    {
     "data": {
      "text/html": [
       "<div>\n",
       "<style scoped>\n",
       "    .dataframe tbody tr th:only-of-type {\n",
       "        vertical-align: middle;\n",
       "    }\n",
       "\n",
       "    .dataframe tbody tr th {\n",
       "        vertical-align: top;\n",
       "    }\n",
       "\n",
       "    .dataframe thead th {\n",
       "        text-align: right;\n",
       "    }\n",
       "</style>\n",
       "<table border=\"1\" class=\"dataframe\">\n",
       "  <thead>\n",
       "    <tr style=\"text-align: right;\">\n",
       "      <th></th>\n",
       "      <th>PRODUCT</th>\n",
       "      <th>DRAW NUMBER</th>\n",
       "      <th>SEQUENCE NUMBER</th>\n",
       "      <th>DRAW DATE</th>\n",
       "      <th>NUMBER DRAWN 1</th>\n",
       "      <th>NUMBER DRAWN 2</th>\n",
       "      <th>NUMBER DRAWN 3</th>\n",
       "      <th>NUMBER DRAWN 4</th>\n",
       "      <th>NUMBER DRAWN 5</th>\n",
       "      <th>NUMBER DRAWN 6</th>\n",
       "      <th>BONUS NUMBER</th>\n",
       "    </tr>\n",
       "  </thead>\n",
       "  <tbody>\n",
       "    <tr>\n",
       "      <th>0</th>\n",
       "      <td>649</td>\n",
       "      <td>1</td>\n",
       "      <td>0</td>\n",
       "      <td>6/12/1982</td>\n",
       "      <td>3</td>\n",
       "      <td>11</td>\n",
       "      <td>12</td>\n",
       "      <td>14</td>\n",
       "      <td>41</td>\n",
       "      <td>43</td>\n",
       "      <td>13</td>\n",
       "    </tr>\n",
       "    <tr>\n",
       "      <th>1</th>\n",
       "      <td>649</td>\n",
       "      <td>2</td>\n",
       "      <td>0</td>\n",
       "      <td>6/19/1982</td>\n",
       "      <td>8</td>\n",
       "      <td>33</td>\n",
       "      <td>36</td>\n",
       "      <td>37</td>\n",
       "      <td>39</td>\n",
       "      <td>41</td>\n",
       "      <td>9</td>\n",
       "    </tr>\n",
       "    <tr>\n",
       "      <th>2</th>\n",
       "      <td>649</td>\n",
       "      <td>3</td>\n",
       "      <td>0</td>\n",
       "      <td>6/26/1982</td>\n",
       "      <td>1</td>\n",
       "      <td>6</td>\n",
       "      <td>23</td>\n",
       "      <td>24</td>\n",
       "      <td>27</td>\n",
       "      <td>39</td>\n",
       "      <td>34</td>\n",
       "    </tr>\n",
       "    <tr>\n",
       "      <th>3</th>\n",
       "      <td>649</td>\n",
       "      <td>4</td>\n",
       "      <td>0</td>\n",
       "      <td>7/3/1982</td>\n",
       "      <td>3</td>\n",
       "      <td>9</td>\n",
       "      <td>10</td>\n",
       "      <td>13</td>\n",
       "      <td>20</td>\n",
       "      <td>43</td>\n",
       "      <td>34</td>\n",
       "    </tr>\n",
       "    <tr>\n",
       "      <th>4</th>\n",
       "      <td>649</td>\n",
       "      <td>5</td>\n",
       "      <td>0</td>\n",
       "      <td>7/10/1982</td>\n",
       "      <td>5</td>\n",
       "      <td>14</td>\n",
       "      <td>21</td>\n",
       "      <td>31</td>\n",
       "      <td>34</td>\n",
       "      <td>47</td>\n",
       "      <td>45</td>\n",
       "    </tr>\n",
       "  </tbody>\n",
       "</table>\n",
       "</div>"
      ],
      "text/plain": [
       "   PRODUCT  DRAW NUMBER  SEQUENCE NUMBER  DRAW DATE  NUMBER DRAWN 1  \\\n",
       "0      649            1                0  6/12/1982               3   \n",
       "1      649            2                0  6/19/1982               8   \n",
       "2      649            3                0  6/26/1982               1   \n",
       "3      649            4                0   7/3/1982               3   \n",
       "4      649            5                0  7/10/1982               5   \n",
       "\n",
       "   NUMBER DRAWN 2  NUMBER DRAWN 3  NUMBER DRAWN 4  NUMBER DRAWN 5  \\\n",
       "0              11              12              14              41   \n",
       "1              33              36              37              39   \n",
       "2               6              23              24              27   \n",
       "3               9              10              13              20   \n",
       "4              14              21              31              34   \n",
       "\n",
       "   NUMBER DRAWN 6  BONUS NUMBER  \n",
       "0              43            13  \n",
       "1              41             9  \n",
       "2              39            34  \n",
       "3              43            34  \n",
       "4              47            45  "
      ]
     },
     "execution_count": 6,
     "metadata": {},
     "output_type": "execute_result"
    }
   ],
   "source": [
    "data.head()"
   ]
  },
  {
   "cell_type": "markdown",
   "metadata": {},
   "source": [
    "# Function to compare ticket against historical lottery\n",
    "\n",
    "Now we will write a function that will enable users to compare their ticket against the historical lottery data in Canada and determine whether they would have ever won by now.\n",
    "\n",
    "The engineering team told us that we need to be aware of the following details:\n",
    "\n",
    "* Inside the app, the user inputs six different numbers from 1 to 49.\n",
    "* Under the hood, the six numbers will come as a Python list and serve as an input to our function.\n",
    "\n",
    "\n",
    "The engineering team wants us to write a function that prints:\n",
    "\n",
    "* The number of times the combination selected occurred in the Canada data set\n",
    "* The probability of winning the big prize in the next drawing with that combination"
   ]
  },
  {
   "cell_type": "markdown",
   "metadata": {},
   "source": [
    "** Function to extract numbers **\n",
    "\n",
    "First we will write a function that will extract the numbers from each column in the above dataset and return a set containing all the winning numbers."
   ]
  },
  {
   "cell_type": "code",
   "execution_count": 7,
   "metadata": {
    "collapsed": false,
    "scrolled": false
   },
   "outputs": [
    {
     "data": {
      "text/html": [
       "<div>\n",
       "<style scoped>\n",
       "    .dataframe tbody tr th:only-of-type {\n",
       "        vertical-align: middle;\n",
       "    }\n",
       "\n",
       "    .dataframe tbody tr th {\n",
       "        vertical-align: top;\n",
       "    }\n",
       "\n",
       "    .dataframe thead th {\n",
       "        text-align: right;\n",
       "    }\n",
       "</style>\n",
       "<table border=\"1\" class=\"dataframe\">\n",
       "  <thead>\n",
       "    <tr style=\"text-align: right;\">\n",
       "      <th></th>\n",
       "      <th>PRODUCT</th>\n",
       "      <th>DRAW NUMBER</th>\n",
       "      <th>SEQUENCE NUMBER</th>\n",
       "      <th>DRAW DATE</th>\n",
       "      <th>NUMBER DRAWN 1</th>\n",
       "      <th>NUMBER DRAWN 2</th>\n",
       "      <th>NUMBER DRAWN 3</th>\n",
       "      <th>NUMBER DRAWN 4</th>\n",
       "      <th>NUMBER DRAWN 5</th>\n",
       "      <th>NUMBER DRAWN 6</th>\n",
       "      <th>BONUS NUMBER</th>\n",
       "      <th>Winning_Set</th>\n",
       "    </tr>\n",
       "  </thead>\n",
       "  <tbody>\n",
       "    <tr>\n",
       "      <th>0</th>\n",
       "      <td>649</td>\n",
       "      <td>1</td>\n",
       "      <td>0</td>\n",
       "      <td>6/12/1982</td>\n",
       "      <td>3</td>\n",
       "      <td>11</td>\n",
       "      <td>12</td>\n",
       "      <td>14</td>\n",
       "      <td>41</td>\n",
       "      <td>43</td>\n",
       "      <td>13</td>\n",
       "      <td>{3, 41, 11, 12, 43, 14}</td>\n",
       "    </tr>\n",
       "    <tr>\n",
       "      <th>1</th>\n",
       "      <td>649</td>\n",
       "      <td>2</td>\n",
       "      <td>0</td>\n",
       "      <td>6/19/1982</td>\n",
       "      <td>8</td>\n",
       "      <td>33</td>\n",
       "      <td>36</td>\n",
       "      <td>37</td>\n",
       "      <td>39</td>\n",
       "      <td>41</td>\n",
       "      <td>9</td>\n",
       "      <td>{33, 36, 37, 39, 8, 41}</td>\n",
       "    </tr>\n",
       "    <tr>\n",
       "      <th>2</th>\n",
       "      <td>649</td>\n",
       "      <td>3</td>\n",
       "      <td>0</td>\n",
       "      <td>6/26/1982</td>\n",
       "      <td>1</td>\n",
       "      <td>6</td>\n",
       "      <td>23</td>\n",
       "      <td>24</td>\n",
       "      <td>27</td>\n",
       "      <td>39</td>\n",
       "      <td>34</td>\n",
       "      <td>{1, 6, 39, 23, 24, 27}</td>\n",
       "    </tr>\n",
       "  </tbody>\n",
       "</table>\n",
       "</div>"
      ],
      "text/plain": [
       "   PRODUCT  DRAW NUMBER  SEQUENCE NUMBER  DRAW DATE  NUMBER DRAWN 1  \\\n",
       "0      649            1                0  6/12/1982               3   \n",
       "1      649            2                0  6/19/1982               8   \n",
       "2      649            3                0  6/26/1982               1   \n",
       "\n",
       "   NUMBER DRAWN 2  NUMBER DRAWN 3  NUMBER DRAWN 4  NUMBER DRAWN 5  \\\n",
       "0              11              12              14              41   \n",
       "1              33              36              37              39   \n",
       "2               6              23              24              27   \n",
       "\n",
       "   NUMBER DRAWN 6  BONUS NUMBER              Winning_Set  \n",
       "0              43            13  {3, 41, 11, 12, 43, 14}  \n",
       "1              41             9  {33, 36, 37, 39, 8, 41}  \n",
       "2              39            34   {1, 6, 39, 23, 24, 27}  "
      ]
     },
     "execution_count": 7,
     "metadata": {},
     "output_type": "execute_result"
    }
   ],
   "source": [
    "# Function to extract numbers\n",
    "\n",
    "def extract_number(row):\n",
    "    row=row[4:10]\n",
    "    nums=set(row.values)\n",
    "    return nums\n",
    "\n",
    "data[\"Winning_Set\"]=data.apply(extract_number,axis=1)\n",
    "\n",
    "data.head(3)\n",
    "    "
   ]
  },
  {
   "cell_type": "markdown",
   "metadata": {},
   "source": [
    "** Function to check historical occurences of the ticket **\n",
    "\n",
    "This function will calculate the number of times the combination selected occured in the Canada dataset and the probability of winning the big prize.\n",
    "\n"
   ]
  },
  {
   "cell_type": "code",
   "execution_count": 8,
   "metadata": {
    "collapsed": false
   },
   "outputs": [],
   "source": [
    "# Function to check historical occurences\n",
    "\n",
    "def check_historical_occurences(ticket):\n",
    "    \"\"\"\n",
    "    The function will take in the user ticket as the input which is a\n",
    "    python list.\n",
    "    \"\"\"\n",
    "    ticket_set=set(ticket)\n",
    "    \"\"\"\n",
    "    The lists is converted to sets for comparison\n",
    "    \"\"\"\n",
    "    winning_combinations=data[\"Winning_Set\"]\n",
    "    a=ticket_set==winning_combinations\n",
    "    total_occurences=a.sum()\n",
    "    if total_occurences==0:\n",
    "        print(\"The {} combination has never occured.There is a 1 in 13,983,816 chance of winning with this ticket\"\n",
    "             .format(ticket))\n",
    "    else:\n",
    "        print(\"The {} combination has occured {} times historically.There is a 1 in 13,983,816 chance of winning with this ticket\"\n",
    "             .format(ticket,total_occurences))\n",
    "        "
   ]
  },
  {
   "cell_type": "code",
   "execution_count": 9,
   "metadata": {
    "collapsed": false
   },
   "outputs": [
    {
     "name": "stdout",
     "output_type": "stream",
     "text": [
      "The [12, 2, 25, 36, 45, 30] combination has never occured.There is a 1 in 13,983,816 chance of winning with this ticket\n"
     ]
    }
   ],
   "source": [
    "# Testing the above function\n",
    "\n",
    "check_historical_occurences([12,2,25,36,45,30])"
   ]
  },
  {
   "cell_type": "code",
   "execution_count": 10,
   "metadata": {
    "collapsed": false
   },
   "outputs": [
    {
     "name": "stdout",
     "output_type": "stream",
     "text": [
      "The [3, 41, 11, 12, 43, 14] combination has occured 1 times historically.There is a 1 in 13,983,816 chance of winning with this ticket\n"
     ]
    }
   ],
   "source": [
    "# Testing the above function\n",
    "check_historical_occurences([3, 41, 11, 12, 43, 14])"
   ]
  },
  {
   "cell_type": "markdown",
   "metadata": {},
   "source": [
    "# Multi Ticket Probability\n",
    "\n",
    "Lottery addicts usually play more than one ticket on a single drawing, thinking that this might increase their chances of winning significantly. Our purpose is to help them better estimate their chances of winning.\n",
    "\n",
    "Now we are going to write a function that will allow the users to calculate the chances of winning for any number of different tickets.\n",
    "\n",
    "We've talked with the engineering team and they gave us the following information:\n",
    "\n",
    "* The user will input the number of different tickets they want to play (without inputting the specific combinations they intend to play).\n",
    "* Our function will see an integer between 1 and 13,983,816 (the maximum number of different tickets).\n",
    "* The function should print information about the probability of winning the big prize depending on the number of different tickets played.\n"
   ]
  },
  {
   "cell_type": "code",
   "execution_count": 37,
   "metadata": {
    "collapsed": true
   },
   "outputs": [],
   "source": [
    "# Write the function for multi ticket probability\n",
    "\n",
    "def multi_ticket_probability(no_of_tickets):\n",
    "    \"\"\"\"\n",
    "    The function will take in the input as number of tickets purchased by user\n",
    "    \"\"\"\n",
    "    total_outcomes=combinations(49,6)\n",
    "    \"\"\"\"\n",
    "    The above will give total possible outcomes of 6 numbers drawan from a \n",
    "    total of 49 numbers\n",
    "    \"\"\"\n",
    "    successful_outcomes=no_of_tickets\n",
    "    \"\"\"\n",
    "    Successful outcomes will be the number of tickets drawn\n",
    "    \"\"\"\n",
    "    probability=successful_outcomes/total_outcomes\n",
    "    probability=probability*100\n",
    "    print(probability)\n",
    "    \"\"\"\n",
    "    Convert the probability to percentage so users understand easily\n",
    "    \"\"\"\n",
    "    if no_of_tickets==1:\n",
    "        print('''You have bought one ticket.The chance of you winning this lottery is\n",
    "        {:.6f}%'''.format(probability))\n",
    "    else:\n",
    "        print('''You have bought {} tickets.The chance of you winning this lottery is\n",
    "        {:.6f}%'''.format(no_of_tickets,probability))    "
   ]
  },
  {
   "cell_type": "code",
   "execution_count": 39,
   "metadata": {
    "collapsed": false
   },
   "outputs": [
    {
     "name": "stdout",
     "output_type": "stream",
     "text": [
      "7.151123842018516e-06\n",
      "You have bought one ticket.The chance of you winning this lottery is\n",
      "        0.000007%\n"
     ]
    }
   ],
   "source": [
    "# Test the above function\n",
    "multi_ticket_probability(1)"
   ]
  },
  {
   "cell_type": "code",
   "execution_count": 40,
   "metadata": {
    "collapsed": false
   },
   "outputs": [
    {
     "name": "stdout",
     "output_type": "stream",
     "text": [
      "0.0003575561921009258\n",
      "You have bought 50 tickets.The chance of you winning this lottery is\n",
      "        0.000358%\n"
     ]
    }
   ],
   "source": [
    "# Test the above function\n",
    "multi_ticket_probability(50)"
   ]
  },
  {
   "cell_type": "code",
   "execution_count": 41,
   "metadata": {
    "collapsed": false
   },
   "outputs": [
    {
     "name": "stdout",
     "output_type": "stream",
     "text": [
      "0.07151123842018516\n",
      "You have bought 10000 tickets.The chance of you winning this lottery is\n",
      "        0.071511%\n"
     ]
    }
   ],
   "source": [
    "# Test the above function\n",
    "multi_ticket_probability(10000)"
   ]
  },
  {
   "cell_type": "markdown",
   "metadata": {},
   "source": [
    "# Winning Numbers Probability\n",
    "\n",
    "In most 6/49 lotteries there are smaller prizes if a player's ticket match two,three,four or five of the six numbers drawn. As a result,the user might be interested in knowing the probability of having two,three,four,or five winning numbers.\n",
    "\n",
    "These are the engineering details we'll need to be aware of:\n",
    "\n",
    "Inside the app, the user inputs:\n",
    "\n",
    "1. Six different numbers from 1 to 49 and an integer between 2 and 5 that represents the number of winning numbers expected.\n",
    "2. Our function prints information about the probability of having the inputted number of winning numbers.\n"
   ]
  },
  {
   "cell_type": "markdown",
   "metadata": {},
   "source": [
    "** Steps to follow when writing the above function**\n",
    "\n",
    "First, we need to differentiate between these two probability questions:\n",
    "\n",
    "1. What is the probability of having exactly five winning numbers?\n",
    "2. What is the probability of having at least five winning numbers?\n",
    "\n",
    "For our purpose we will focus on the first question.\n",
    "\n",
    "Let's say a player chose these six numbers on a ticket: (1, 2, 3, 4 ,5 ,6). Out of these six numbers, we can form six five-number combinations:\n",
    "(1, 2, 3, 4, 5)\n",
    "(1, 2, 3, 4, 6)\n",
    "(1, 2, 3, 5, 6)\n",
    "(1, 2, 4, 5, 6)\n",
    "(1, 3, 4, 5, 6)\n",
    "(2, 3, 4, 5, 6)\n",
    "\n",
    "Total number of combinations can be also found using the combinations formula or the function we used above. The output will be 6.\n",
    "\n",
    "For each one of the six five-number combinations we will have 44 possible successful outcomes. Let's take (1,2,4,5,6) as an example. The possible combinations will be:\n",
    "(1,2,4,5,6,3),(1,2,4,5,6,7),(1,2,4,5,6,8),.................(1,2,4,5,6,49)\n",
    "\n",
    "However we need to leave out the combination (1,2,4,5,6,3) since iot matches all the six numbers and we only want combinations which will match exact five numbers.So total combination will be 44-1=43.\n",
    "\n",
    "Since there are six five-number combinations and each combination corresponds to 43 successful outcomes, we need to multiply 6 by 43 to find the total number of successful outcomes:\n",
    "\n",
    "6 * 43=258.\n",
    "\n",
    "Since there are 258 successful outcomes and there are 13,983,816 total possible outcomes(result of choosing 6 nos of 49 nos),the probability of having exactlt five winning numbers for a single lottery ticket is:\n",
    "\n",
    "258/13,983,816=0.00001845\n",
    "\n",
    "With the above calculation we can see that the exact combination of numbers on the ticket is irrelevant and we only need number between 2 and 5 to calculate the probability."
   ]
  },
  {
   "cell_type": "code",
   "execution_count": 53,
   "metadata": {
    "collapsed": true
   },
   "outputs": [],
   "source": [
    "# Write the function\n",
    "def probability_less_6(numbers_count):\n",
    "    '''\n",
    "    Function will take the input as numbers_count.\n",
    "    '''\n",
    "    total_outcomes=combinations(49,6)\n",
    "    '''\n",
    "    Calculate the total outcomes using the combinatinos function above.\n",
    "    '''\n",
    "    num_combinations=combinations(6,numbers_count)\n",
    "    '''\n",
    "    Calculate the total number of possible combinations using the combinations function.\n",
    "    We need to find possible combinations of selecting 5 out of 6 numbers on a ticket.\n",
    "    '''\n",
    "    successful_combinations=num_combinations*(combinations(43,6-numbers_count))\n",
    "    '''\n",
    "    Every possible combination in num_combinations will have (49 - numbers_count) possible outcomes.\n",
    "    For example if we want to look at probability of matching 2 nos on the ticket.\n",
    "    The 2 numbers will have 15 combinations and each combination will have 47 different combinations.\n",
    "    \n",
    "    However as discussed above we need to remove the one exact combination which \n",
    "    will match all the numbers on the ticket.\n",
    "    '''\n",
    "    prob=(successful_combinations/total_outcomes)*100\n",
    "    print(''' The probability of getting {} winning numbers on your ticket is \n",
    "    {:.6f}%'''.format(numbers_count,prob))"
   ]
  },
  {
   "cell_type": "code",
   "execution_count": 56,
   "metadata": {
    "collapsed": false
   },
   "outputs": [
    {
     "name": "stdout",
     "output_type": "stream",
     "text": [
      " The probability of getting 2 winning numbers on your ticket is \n",
      "    13.237803%\n",
      "----------\n",
      " The probability of getting 3 winning numbers on your ticket is \n",
      "    1.765040%\n",
      "----------\n",
      " The probability of getting 4 winning numbers on your ticket is \n",
      "    0.096862%\n",
      "----------\n",
      " The probability of getting 5 winning numbers on your ticket is \n",
      "    0.001845%\n",
      "----------\n"
     ]
    }
   ],
   "source": [
    "# Test the above function\n",
    "for i in range(2,6):\n",
    "    probability_less_6(i)\n",
    "    print(\"----------\")  # output delimiter"
   ]
  },
  {
   "cell_type": "markdown",
   "metadata": {},
   "source": [
    "# Conclusion\n",
    "\n",
    "For this version of the app we coded four main main functions:\n",
    "\n",
    "* one_ticket_probability - Probablity of winning the big prize\n",
    "* check_historical_occurrence - Check if the current combination of the user ticket has occured historically\n",
    "* multi_ticket_probability- Probability of winning for any number of tickets.\n",
    "* probability_less_6 - Probabibility of having 2 to 5 winning numbers in the user ticket.\n"
   ]
  }
 ],
 "metadata": {
  "kernelspec": {
   "display_name": "Python 3",
   "language": "python",
   "name": "python3"
  },
  "language_info": {
   "codemirror_mode": {
    "name": "ipython",
    "version": 3
   },
   "file_extension": ".py",
   "mimetype": "text/x-python",
   "name": "python",
   "nbconvert_exporter": "python",
   "pygments_lexer": "ipython3",
   "version": "3.4.3"
  }
 },
 "nbformat": 4,
 "nbformat_minor": 2
}
